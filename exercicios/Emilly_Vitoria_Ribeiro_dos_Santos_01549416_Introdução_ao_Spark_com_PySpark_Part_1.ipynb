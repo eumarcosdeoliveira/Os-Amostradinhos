{
  "nbformat": 4,
  "nbformat_minor": 0,
  "metadata": {
    "colab": {
      "provenance": [],
      "include_colab_link": true
    },
    "kernelspec": {
      "name": "python3",
      "display_name": "Python 3"
    },
    "language_info": {
      "name": "python"
    }
  },
  "cells": [
    {
      "cell_type": "markdown",
      "metadata": {
        "id": "view-in-github",
        "colab_type": "text"
      },
      "source": [
        "<a href=\"https://colab.research.google.com/github/eumarcosdeoliveira/Os-Amostradinhos/blob/main/Emilly_Vitoria_Ribeiro_dos_Santos_01549416_Introdu%C3%A7%C3%A3o_ao_Spark_com_PySpark_Part_1.ipynb\" target=\"_parent\"><img src=\"https://colab.research.google.com/assets/colab-badge.svg\" alt=\"Open In Colab\"/></a>"
      ]
    },
    {
      "cell_type": "markdown",
      "source": [
        "\n",
        "#Introdução ao Apache Spark\n",
        "\n",
        "Apache Spark é um framework de processamento de dados de código aberto projetado para ser rápido, fácil de usar e geral. Ele permite o processamento distribuído de grandes volumes de dados em clusters, suportando tarefas de processamento em lote e em tempo real. Spark é amplamente utilizado para análise de dados, aprendizado de máquina, processamento de streaming e muito mais.\n"
      ],
      "metadata": {
        "id": "k46CQak6-yWG"
      }
    },
    {
      "cell_type": "markdown",
      "source": [
        "#### História e Marcos do Apache Spark\n",
        "*  2009: Desenvolvido originalmente na UC Berkeley’s AMPLab.\n",
        "*  2010: Spark foi open-sourced.\n",
        "*  2014: Tornou-se um projeto de alto nível da Apache Software Foundation.\n",
        "*  2016: Spark 2.0 lançado, introduzindo DataFrames e Spark SQL.\n",
        "*  2020: Spark 3.0 lançado, trazendo melhorias significativas em desempenho e novas APIs.\n",
        "*  2024: Spark continua evoluindo, com foco em otimizações de desempenho e integração com tecnologias emergentes."
      ],
      "metadata": {
        "id": "MeFL6KxK_B7B"
      }
    },
    {
      "cell_type": "markdown",
      "source": [
        "#Fundamentos do Apache Spark\n",
        "#### RDDs (Resilient Distributed Datasets)\n",
        "\n",
        "RDDs são a abstração fundamental no Spark, representando uma coleção distribuída de elementos que podem ser processados em paralelo. Eles são imutáveis e tolerantes a falhas.\n",
        "\n",
        "##### Características:\n",
        "\n",
        "* Imutabilidade: Uma vez criado, um RDD não pode ser alterado.\n",
        "* Tolerância a falhas: Spark reconstrói automaticamente partes perdidas dos RDDs.\n",
        "* Transformações e Ações: Operações que transformam os dados ou coletam resultados.\n",
        "\n",
        "#### RDDs (Resilient Distributed Datasets)\n",
        "\n",
        "#### **DataFrames**\n",
        "\n",
        "DataFrames são uma abstração mais estruturada sobre RDDs, semelhantes a tabelas em bancos de dados relacionais. Eles permitem operações otimizadas e integração com Spark SQL.\n",
        "\n",
        "**Vantagens:**\n",
        "\n",
        "* Performance: Otimizações como o Catalyst Optimizer melhoram o desempenho.\n",
        "* Facilidade de Uso: APIs mais amigáveis para manipulação de dados estruturados.\n",
        "* Integração: Compatível com diversas fontes de dados e ferramentas de BI.\n",
        "\n",
        "\n",
        "** Datasets Utilizados **\n",
        "\n",
        "https://www.kaggle.com/datasets/shubhambathwal/flight-price-prediction"
      ],
      "metadata": {
        "id": "gXA3ECk3AIsw"
      }
    },
    {
      "cell_type": "code",
      "execution_count": null,
      "metadata": {
        "colab": {
          "base_uri": "https://localhost:8080/"
        },
        "id": "fPIwCUX0-D8a",
        "outputId": "80e77f2e-5679-4a30-b2ea-545d709a6e44"
      },
      "outputs": [
        {
          "output_type": "stream",
          "name": "stdout",
          "text": [
            "Requirement already satisfied: pyspark in /usr/local/lib/python3.10/dist-packages (3.5.3)\n",
            "Requirement already satisfied: py4j==0.10.9.7 in /usr/local/lib/python3.10/dist-packages (from pyspark) (0.10.9.7)\n"
          ]
        }
      ],
      "source": [
        "# Instalar PySpark via pip\n",
        "!pip install pyspark"
      ]
    },
    {
      "cell_type": "code",
      "source": [
        "import kagglehub\n",
        "\n",
        "# Download latest version\n",
        "path = kagglehub.dataset_download(\"satvshr/top-4-used-car-sales-datasets-combined\")\n",
        "\n",
        "print(\"Path to dataset files:\", path)\n",
        "\n",
        "path_lol = kagglehub.dataset_download(\"octopusteam/imdb-top-rated-titles-movies-and-tv-series\")\n",
        "\n",
        "print(\"Path to dataset files:\", path_lol)"
      ],
      "metadata": {
        "colab": {
          "base_uri": "https://localhost:8080/"
        },
        "id": "BxhhcwsfscYT",
        "outputId": "fe0c72af-a408-4968-a34b-aba8aa0a7bdd"
      },
      "execution_count": null,
      "outputs": [
        {
          "output_type": "stream",
          "name": "stdout",
          "text": [
            "Warning: Looks like you're using an outdated `kagglehub` version, please consider updating (latest version: 0.3.3)\n",
            "Downloading from https://www.kaggle.com/api/v1/datasets/download/satvshr/top-4-used-car-sales-datasets-combined?dataset_version_number=2...\n"
          ]
        },
        {
          "output_type": "stream",
          "name": "stderr",
          "text": [
            "100%|██████████| 446k/446k [00:00<00:00, 30.1MB/s]"
          ]
        },
        {
          "output_type": "stream",
          "name": "stdout",
          "text": [
            "Extracting files...\n",
            "Path to dataset files: /root/.cache/kagglehub/datasets/satvshr/top-4-used-car-sales-datasets-combined/versions/2\n"
          ]
        },
        {
          "output_type": "stream",
          "name": "stderr",
          "text": [
            "\n"
          ]
        },
        {
          "output_type": "stream",
          "name": "stdout",
          "text": [
            "Warning: Looks like you're using an outdated `kagglehub` version, please consider updating (latest version: 0.3.3)\n",
            "Downloading from https://www.kaggle.com/api/v1/datasets/download/octopusteam/imdb-top-rated-titles-movies-and-tv-series?dataset_version_number=13...\n"
          ]
        },
        {
          "output_type": "stream",
          "name": "stderr",
          "text": [
            "100%|██████████| 140k/140k [00:00<00:00, 25.0MB/s]"
          ]
        },
        {
          "output_type": "stream",
          "name": "stdout",
          "text": [
            "Extracting files...\n",
            "Path to dataset files: /root/.cache/kagglehub/datasets/octopusteam/imdb-top-rated-titles-movies-and-tv-series/versions/13\n"
          ]
        },
        {
          "output_type": "stream",
          "name": "stderr",
          "text": [
            "\n"
          ]
        }
      ]
    },
    {
      "cell_type": "code",
      "source": [
        "# Iniciar uma Sessão Spark\n",
        "from pyspark.sql import SparkSession\n",
        "\n",
        "spark = SparkSession.builder \\\n",
        "    .appName(\"ExemploPySpark\") \\\n",
        "    .getOrCreate()"
      ],
      "metadata": {
        "id": "ZKDUH38tSMgE"
      },
      "execution_count": null,
      "outputs": []
    },
    {
      "cell_type": "markdown",
      "source": [
        "**Comparando métodos do pandas x métodos do PySpark**\n",
        "\n",
        "Leitura de Dados:"
      ],
      "metadata": {
        "id": "PbTdKPDVTaDq"
      }
    },
    {
      "cell_type": "code",
      "source": [
        "import pandas as pd\n",
        "df_pandas = pd.read_csv(\"/root/.cache/kagglehub/datasets/satvshr/top-4-used-car-sales-datasets-combined/versions/2/output.csv\")"
      ],
      "metadata": {
        "id": "1SR12OBgSX_w"
      },
      "execution_count": null,
      "outputs": []
    },
    {
      "cell_type": "code",
      "source": [
        "df_pandas.head(4)"
      ],
      "metadata": {
        "colab": {
          "base_uri": "https://localhost:8080/",
          "height": 195
        },
        "id": "7vYjahCwsvh3",
        "outputId": "50a443dc-f465-4709-e66d-e1c164c3e902"
      },
      "execution_count": null,
      "outputs": [
        {
          "output_type": "execute_result",
          "data": {
            "text/plain": [
              "      brand    model transmission  age    fuel  engine       km  owner  \\\n",
              "0  mahindra     thar       manual  4.0  diesel  2184.0  11003.0    1.0   \n",
              "1   hyundai    verna       manual  6.0  petrol  1591.0  66936.0    1.0   \n",
              "2      tata  harrier       manual  2.0  diesel  1956.0  27990.0    1.0   \n",
              "3     honda     city    automatic  1.0  petrol  1498.0   5061.0    1.0   \n",
              "\n",
              "       price location  mileage  power  seats type  \n",
              "0  1231000.0      NaN      NaN    NaN    NaN  NaN  \n",
              "1   786000.0      NaN      NaN    NaN    NaN  NaN  \n",
              "2  1489000.0      NaN      NaN    NaN    NaN  NaN  \n",
              "3  1227000.0      NaN      NaN    NaN    NaN  NaN  "
            ],
            "text/html": [
              "\n",
              "  <div id=\"df-08b3abe5-e04a-4e09-95cc-a8239754e80e\" class=\"colab-df-container\">\n",
              "    <div>\n",
              "<style scoped>\n",
              "    .dataframe tbody tr th:only-of-type {\n",
              "        vertical-align: middle;\n",
              "    }\n",
              "\n",
              "    .dataframe tbody tr th {\n",
              "        vertical-align: top;\n",
              "    }\n",
              "\n",
              "    .dataframe thead th {\n",
              "        text-align: right;\n",
              "    }\n",
              "</style>\n",
              "<table border=\"1\" class=\"dataframe\">\n",
              "  <thead>\n",
              "    <tr style=\"text-align: right;\">\n",
              "      <th></th>\n",
              "      <th>brand</th>\n",
              "      <th>model</th>\n",
              "      <th>transmission</th>\n",
              "      <th>age</th>\n",
              "      <th>fuel</th>\n",
              "      <th>engine</th>\n",
              "      <th>km</th>\n",
              "      <th>owner</th>\n",
              "      <th>price</th>\n",
              "      <th>location</th>\n",
              "      <th>mileage</th>\n",
              "      <th>power</th>\n",
              "      <th>seats</th>\n",
              "      <th>type</th>\n",
              "    </tr>\n",
              "  </thead>\n",
              "  <tbody>\n",
              "    <tr>\n",
              "      <th>0</th>\n",
              "      <td>mahindra</td>\n",
              "      <td>thar</td>\n",
              "      <td>manual</td>\n",
              "      <td>4.0</td>\n",
              "      <td>diesel</td>\n",
              "      <td>2184.0</td>\n",
              "      <td>11003.0</td>\n",
              "      <td>1.0</td>\n",
              "      <td>1231000.0</td>\n",
              "      <td>NaN</td>\n",
              "      <td>NaN</td>\n",
              "      <td>NaN</td>\n",
              "      <td>NaN</td>\n",
              "      <td>NaN</td>\n",
              "    </tr>\n",
              "    <tr>\n",
              "      <th>1</th>\n",
              "      <td>hyundai</td>\n",
              "      <td>verna</td>\n",
              "      <td>manual</td>\n",
              "      <td>6.0</td>\n",
              "      <td>petrol</td>\n",
              "      <td>1591.0</td>\n",
              "      <td>66936.0</td>\n",
              "      <td>1.0</td>\n",
              "      <td>786000.0</td>\n",
              "      <td>NaN</td>\n",
              "      <td>NaN</td>\n",
              "      <td>NaN</td>\n",
              "      <td>NaN</td>\n",
              "      <td>NaN</td>\n",
              "    </tr>\n",
              "    <tr>\n",
              "      <th>2</th>\n",
              "      <td>tata</td>\n",
              "      <td>harrier</td>\n",
              "      <td>manual</td>\n",
              "      <td>2.0</td>\n",
              "      <td>diesel</td>\n",
              "      <td>1956.0</td>\n",
              "      <td>27990.0</td>\n",
              "      <td>1.0</td>\n",
              "      <td>1489000.0</td>\n",
              "      <td>NaN</td>\n",
              "      <td>NaN</td>\n",
              "      <td>NaN</td>\n",
              "      <td>NaN</td>\n",
              "      <td>NaN</td>\n",
              "    </tr>\n",
              "    <tr>\n",
              "      <th>3</th>\n",
              "      <td>honda</td>\n",
              "      <td>city</td>\n",
              "      <td>automatic</td>\n",
              "      <td>1.0</td>\n",
              "      <td>petrol</td>\n",
              "      <td>1498.0</td>\n",
              "      <td>5061.0</td>\n",
              "      <td>1.0</td>\n",
              "      <td>1227000.0</td>\n",
              "      <td>NaN</td>\n",
              "      <td>NaN</td>\n",
              "      <td>NaN</td>\n",
              "      <td>NaN</td>\n",
              "      <td>NaN</td>\n",
              "    </tr>\n",
              "  </tbody>\n",
              "</table>\n",
              "</div>\n",
              "    <div class=\"colab-df-buttons\">\n",
              "\n",
              "  <div class=\"colab-df-container\">\n",
              "    <button class=\"colab-df-convert\" onclick=\"convertToInteractive('df-08b3abe5-e04a-4e09-95cc-a8239754e80e')\"\n",
              "            title=\"Convert this dataframe to an interactive table.\"\n",
              "            style=\"display:none;\">\n",
              "\n",
              "  <svg xmlns=\"http://www.w3.org/2000/svg\" height=\"24px\" viewBox=\"0 -960 960 960\">\n",
              "    <path d=\"M120-120v-720h720v720H120Zm60-500h600v-160H180v160Zm220 220h160v-160H400v160Zm0 220h160v-160H400v160ZM180-400h160v-160H180v160Zm440 0h160v-160H620v160ZM180-180h160v-160H180v160Zm440 0h160v-160H620v160Z\"/>\n",
              "  </svg>\n",
              "    </button>\n",
              "\n",
              "  <style>\n",
              "    .colab-df-container {\n",
              "      display:flex;\n",
              "      gap: 12px;\n",
              "    }\n",
              "\n",
              "    .colab-df-convert {\n",
              "      background-color: #E8F0FE;\n",
              "      border: none;\n",
              "      border-radius: 50%;\n",
              "      cursor: pointer;\n",
              "      display: none;\n",
              "      fill: #1967D2;\n",
              "      height: 32px;\n",
              "      padding: 0 0 0 0;\n",
              "      width: 32px;\n",
              "    }\n",
              "\n",
              "    .colab-df-convert:hover {\n",
              "      background-color: #E2EBFA;\n",
              "      box-shadow: 0px 1px 2px rgba(60, 64, 67, 0.3), 0px 1px 3px 1px rgba(60, 64, 67, 0.15);\n",
              "      fill: #174EA6;\n",
              "    }\n",
              "\n",
              "    .colab-df-buttons div {\n",
              "      margin-bottom: 4px;\n",
              "    }\n",
              "\n",
              "    [theme=dark] .colab-df-convert {\n",
              "      background-color: #3B4455;\n",
              "      fill: #D2E3FC;\n",
              "    }\n",
              "\n",
              "    [theme=dark] .colab-df-convert:hover {\n",
              "      background-color: #434B5C;\n",
              "      box-shadow: 0px 1px 3px 1px rgba(0, 0, 0, 0.15);\n",
              "      filter: drop-shadow(0px 1px 2px rgba(0, 0, 0, 0.3));\n",
              "      fill: #FFFFFF;\n",
              "    }\n",
              "  </style>\n",
              "\n",
              "    <script>\n",
              "      const buttonEl =\n",
              "        document.querySelector('#df-08b3abe5-e04a-4e09-95cc-a8239754e80e button.colab-df-convert');\n",
              "      buttonEl.style.display =\n",
              "        google.colab.kernel.accessAllowed ? 'block' : 'none';\n",
              "\n",
              "      async function convertToInteractive(key) {\n",
              "        const element = document.querySelector('#df-08b3abe5-e04a-4e09-95cc-a8239754e80e');\n",
              "        const dataTable =\n",
              "          await google.colab.kernel.invokeFunction('convertToInteractive',\n",
              "                                                    [key], {});\n",
              "        if (!dataTable) return;\n",
              "\n",
              "        const docLinkHtml = 'Like what you see? Visit the ' +\n",
              "          '<a target=\"_blank\" href=https://colab.research.google.com/notebooks/data_table.ipynb>data table notebook</a>'\n",
              "          + ' to learn more about interactive tables.';\n",
              "        element.innerHTML = '';\n",
              "        dataTable['output_type'] = 'display_data';\n",
              "        await google.colab.output.renderOutput(dataTable, element);\n",
              "        const docLink = document.createElement('div');\n",
              "        docLink.innerHTML = docLinkHtml;\n",
              "        element.appendChild(docLink);\n",
              "      }\n",
              "    </script>\n",
              "  </div>\n",
              "\n",
              "\n",
              "<div id=\"df-78249dfa-d14f-483b-8947-3d39343bae66\">\n",
              "  <button class=\"colab-df-quickchart\" onclick=\"quickchart('df-78249dfa-d14f-483b-8947-3d39343bae66')\"\n",
              "            title=\"Suggest charts\"\n",
              "            style=\"display:none;\">\n",
              "\n",
              "<svg xmlns=\"http://www.w3.org/2000/svg\" height=\"24px\"viewBox=\"0 0 24 24\"\n",
              "     width=\"24px\">\n",
              "    <g>\n",
              "        <path d=\"M19 3H5c-1.1 0-2 .9-2 2v14c0 1.1.9 2 2 2h14c1.1 0 2-.9 2-2V5c0-1.1-.9-2-2-2zM9 17H7v-7h2v7zm4 0h-2V7h2v10zm4 0h-2v-4h2v4z\"/>\n",
              "    </g>\n",
              "</svg>\n",
              "  </button>\n",
              "\n",
              "<style>\n",
              "  .colab-df-quickchart {\n",
              "      --bg-color: #E8F0FE;\n",
              "      --fill-color: #1967D2;\n",
              "      --hover-bg-color: #E2EBFA;\n",
              "      --hover-fill-color: #174EA6;\n",
              "      --disabled-fill-color: #AAA;\n",
              "      --disabled-bg-color: #DDD;\n",
              "  }\n",
              "\n",
              "  [theme=dark] .colab-df-quickchart {\n",
              "      --bg-color: #3B4455;\n",
              "      --fill-color: #D2E3FC;\n",
              "      --hover-bg-color: #434B5C;\n",
              "      --hover-fill-color: #FFFFFF;\n",
              "      --disabled-bg-color: #3B4455;\n",
              "      --disabled-fill-color: #666;\n",
              "  }\n",
              "\n",
              "  .colab-df-quickchart {\n",
              "    background-color: var(--bg-color);\n",
              "    border: none;\n",
              "    border-radius: 50%;\n",
              "    cursor: pointer;\n",
              "    display: none;\n",
              "    fill: var(--fill-color);\n",
              "    height: 32px;\n",
              "    padding: 0;\n",
              "    width: 32px;\n",
              "  }\n",
              "\n",
              "  .colab-df-quickchart:hover {\n",
              "    background-color: var(--hover-bg-color);\n",
              "    box-shadow: 0 1px 2px rgba(60, 64, 67, 0.3), 0 1px 3px 1px rgba(60, 64, 67, 0.15);\n",
              "    fill: var(--button-hover-fill-color);\n",
              "  }\n",
              "\n",
              "  .colab-df-quickchart-complete:disabled,\n",
              "  .colab-df-quickchart-complete:disabled:hover {\n",
              "    background-color: var(--disabled-bg-color);\n",
              "    fill: var(--disabled-fill-color);\n",
              "    box-shadow: none;\n",
              "  }\n",
              "\n",
              "  .colab-df-spinner {\n",
              "    border: 2px solid var(--fill-color);\n",
              "    border-color: transparent;\n",
              "    border-bottom-color: var(--fill-color);\n",
              "    animation:\n",
              "      spin 1s steps(1) infinite;\n",
              "  }\n",
              "\n",
              "  @keyframes spin {\n",
              "    0% {\n",
              "      border-color: transparent;\n",
              "      border-bottom-color: var(--fill-color);\n",
              "      border-left-color: var(--fill-color);\n",
              "    }\n",
              "    20% {\n",
              "      border-color: transparent;\n",
              "      border-left-color: var(--fill-color);\n",
              "      border-top-color: var(--fill-color);\n",
              "    }\n",
              "    30% {\n",
              "      border-color: transparent;\n",
              "      border-left-color: var(--fill-color);\n",
              "      border-top-color: var(--fill-color);\n",
              "      border-right-color: var(--fill-color);\n",
              "    }\n",
              "    40% {\n",
              "      border-color: transparent;\n",
              "      border-right-color: var(--fill-color);\n",
              "      border-top-color: var(--fill-color);\n",
              "    }\n",
              "    60% {\n",
              "      border-color: transparent;\n",
              "      border-right-color: var(--fill-color);\n",
              "    }\n",
              "    80% {\n",
              "      border-color: transparent;\n",
              "      border-right-color: var(--fill-color);\n",
              "      border-bottom-color: var(--fill-color);\n",
              "    }\n",
              "    90% {\n",
              "      border-color: transparent;\n",
              "      border-bottom-color: var(--fill-color);\n",
              "    }\n",
              "  }\n",
              "</style>\n",
              "\n",
              "  <script>\n",
              "    async function quickchart(key) {\n",
              "      const quickchartButtonEl =\n",
              "        document.querySelector('#' + key + ' button');\n",
              "      quickchartButtonEl.disabled = true;  // To prevent multiple clicks.\n",
              "      quickchartButtonEl.classList.add('colab-df-spinner');\n",
              "      try {\n",
              "        const charts = await google.colab.kernel.invokeFunction(\n",
              "            'suggestCharts', [key], {});\n",
              "      } catch (error) {\n",
              "        console.error('Error during call to suggestCharts:', error);\n",
              "      }\n",
              "      quickchartButtonEl.classList.remove('colab-df-spinner');\n",
              "      quickchartButtonEl.classList.add('colab-df-quickchart-complete');\n",
              "    }\n",
              "    (() => {\n",
              "      let quickchartButtonEl =\n",
              "        document.querySelector('#df-78249dfa-d14f-483b-8947-3d39343bae66 button');\n",
              "      quickchartButtonEl.style.display =\n",
              "        google.colab.kernel.accessAllowed ? 'block' : 'none';\n",
              "    })();\n",
              "  </script>\n",
              "</div>\n",
              "\n",
              "    </div>\n",
              "  </div>\n"
            ],
            "application/vnd.google.colaboratory.intrinsic+json": {
              "type": "dataframe",
              "variable_name": "df_pandas",
              "summary": "{\n  \"name\": \"df_pandas\",\n  \"rows\": 32200,\n  \"fields\": [\n    {\n      \"column\": \"brand\",\n      \"properties\": {\n        \"dtype\": \"category\",\n        \"num_unique_values\": 35,\n        \"samples\": [\n          \"smart\",\n          \"datsun\",\n          \"mini\"\n        ],\n        \"semantic_type\": \"\",\n        \"description\": \"\"\n      }\n    },\n    {\n      \"column\": \"model\",\n      \"properties\": {\n        \"dtype\": \"category\",\n        \"num_unique_values\": 301,\n        \"samples\": [\n          \"koleos\",\n          \"wagon r stingray\",\n          \"sl-class\"\n        ],\n        \"semantic_type\": \"\",\n        \"description\": \"\"\n      }\n    },\n    {\n      \"column\": \"transmission\",\n      \"properties\": {\n        \"dtype\": \"category\",\n        \"num_unique_values\": 2,\n        \"samples\": [\n          \"automatic\",\n          \"manual\"\n        ],\n        \"semantic_type\": \"\",\n        \"description\": \"\"\n      }\n    },\n    {\n      \"column\": \"age\",\n      \"properties\": {\n        \"dtype\": \"number\",\n        \"std\": 3.4855771665500916,\n        \"min\": 0.0,\n        \"max\": 29.0,\n        \"num_unique_values\": 28,\n        \"samples\": [\n          12.0,\n          23.0\n        ],\n        \"semantic_type\": \"\",\n        \"description\": \"\"\n      }\n    },\n    {\n      \"column\": \"fuel\",\n      \"properties\": {\n        \"dtype\": \"category\",\n        \"num_unique_values\": 5,\n        \"samples\": [\n          \"petrol\",\n          \"lpg\"\n        ],\n        \"semantic_type\": \"\",\n        \"description\": \"\"\n      }\n    },\n    {\n      \"column\": \"engine\",\n      \"properties\": {\n        \"dtype\": \"number\",\n        \"std\": 520.9168715765912,\n        \"min\": 72.0,\n        \"max\": 5998.0,\n        \"num_unique_values\": 156,\n        \"samples\": [\n          2835.0,\n          2894.0\n        ],\n        \"semantic_type\": \"\",\n        \"description\": \"\"\n      }\n    },\n    {\n      \"column\": \"km\",\n      \"properties\": {\n        \"dtype\": \"number\",\n        \"std\": 55771.453615453,\n        \"min\": 0.0,\n        \"max\": 6500000.0,\n        \"num_unique_values\": 15977,\n        \"samples\": [\n          108870.0,\n          92801.0\n        ],\n        \"semantic_type\": \"\",\n        \"description\": \"\"\n      }\n    },\n    {\n      \"column\": \"owner\",\n      \"properties\": {\n        \"dtype\": \"number\",\n        \"std\": 0.49046345883480524,\n        \"min\": 1.0,\n        \"max\": 4.0,\n        \"num_unique_values\": 4,\n        \"samples\": [\n          2.0,\n          4.0\n        ],\n        \"semantic_type\": \"\",\n        \"description\": \"\"\n      }\n    },\n    {\n      \"column\": \"price\",\n      \"properties\": {\n        \"dtype\": \"number\",\n        \"std\": 703770.177961995,\n        \"min\": 40000.0,\n        \"max\": 7066000.0,\n        \"num_unique_values\": 2286,\n        \"samples\": [\n          886999.9999999999,\n          249000.00000000003\n        ],\n        \"semantic_type\": \"\",\n        \"description\": \"\"\n      }\n    },\n    {\n      \"column\": \"location\",\n      \"properties\": {\n        \"dtype\": \"category\",\n        \"num_unique_values\": 26,\n        \"samples\": [\n          \"delhi\",\n          \"uttar pradesh\"\n        ],\n        \"semantic_type\": \"\",\n        \"description\": \"\"\n      }\n    },\n    {\n      \"column\": \"mileage\",\n      \"properties\": {\n        \"dtype\": \"number\",\n        \"std\": 4.418605259803849,\n        \"min\": 0.0,\n        \"max\": 46.6206,\n        \"num_unique_values\": 536,\n        \"samples\": [\n          16.6,\n          15.73\n        ],\n        \"semantic_type\": \"\",\n        \"description\": \"\"\n      }\n    },\n    {\n      \"column\": \"power\",\n      \"properties\": {\n        \"dtype\": \"number\",\n        \"std\": 45.00226016434334,\n        \"min\": 34.2,\n        \"max\": 600.0,\n        \"num_unique_values\": 456,\n        \"samples\": [\n          335.25,\n          112.2\n        ],\n        \"semantic_type\": \"\",\n        \"description\": \"\"\n      }\n    },\n    {\n      \"column\": \"seats\",\n      \"properties\": {\n        \"dtype\": \"number\",\n        \"std\": 0.7076391408164407,\n        \"min\": 0.0,\n        \"max\": 10.0,\n        \"num_unique_values\": 9,\n        \"samples\": [\n          9.0,\n          7.0\n        ],\n        \"semantic_type\": \"\",\n        \"description\": \"\"\n      }\n    },\n    {\n      \"column\": \"type\",\n      \"properties\": {\n        \"dtype\": \"category\",\n        \"num_unique_values\": 5,\n        \"samples\": [\n          \"sedan\",\n          \"lux_sedan\"\n        ],\n        \"semantic_type\": \"\",\n        \"description\": \"\"\n      }\n    }\n  ]\n}"
            }
          },
          "metadata": {},
          "execution_count": 3
        }
      ]
    },
    {
      "cell_type": "code",
      "source": [
        "from pyspark.sql import SparkSession\n",
        "\n",
        "spark = SparkSession.builder.appName(\"ExemploLeitura\").getOrCreate()\n",
        "\n",
        "# Leitura de um arquivo CSV\n",
        "df_pyspark = spark.read.csv(\"/root/.cache/kagglehub/datasets/satvshr/top-4-used-car-sales-datasets-combined/versions/2/output.csv\", header=True, inferSchema=True)"
      ],
      "metadata": {
        "id": "KxkLRN6VTweh"
      },
      "execution_count": null,
      "outputs": []
    },
    {
      "cell_type": "code",
      "source": [
        "#Nomes das colunas\n",
        "for i in df_pandas.columns:\n",
        "  print(i)"
      ],
      "metadata": {
        "colab": {
          "base_uri": "https://localhost:8080/"
        },
        "id": "p2JKtAI0s8AA",
        "outputId": "a79fecf0-0c1f-4eaa-86be-d68cfc91d7ab"
      },
      "execution_count": null,
      "outputs": [
        {
          "output_type": "stream",
          "name": "stdout",
          "text": [
            "brand\n",
            "model\n",
            "transmission\n",
            "age\n",
            "fuel\n",
            "engine\n",
            "km\n",
            "owner\n",
            "price\n",
            "location\n",
            "mileage\n",
            "power\n",
            "seats\n",
            "type\n"
          ]
        }
      ]
    },
    {
      "cell_type": "markdown",
      "source": [
        "Seleção de Colunas:"
      ],
      "metadata": {
        "id": "CyP1qKuVT7Fn"
      }
    },
    {
      "cell_type": "code",
      "source": [
        "# Seleciona colunas específicas - Pandas\n",
        "df_selecionado_pandas = df_pandas[['brand', 'model','age']]"
      ],
      "metadata": {
        "id": "W7G9niUIT3YF"
      },
      "execution_count": null,
      "outputs": []
    },
    {
      "cell_type": "code",
      "source": [
        "# Seleciona colunas específicas - PySpark\n",
        "df_selecionado_spark = df_pyspark.select('brand', 'model','age')"
      ],
      "metadata": {
        "id": "9_ayFq__ULWC"
      },
      "execution_count": null,
      "outputs": []
    },
    {
      "cell_type": "markdown",
      "source": [
        "Filtragem de Dados:"
      ],
      "metadata": {
        "id": "DLDFhVdBUy6M"
      }
    },
    {
      "cell_type": "code",
      "source": [
        "df_filtrado_pandas = df_pandas[df_pandas['age'] > 2]"
      ],
      "metadata": {
        "id": "NqYRN_ExU1O6"
      },
      "execution_count": null,
      "outputs": []
    },
    {
      "cell_type": "code",
      "source": [
        "df_filtrado_spark = df_pyspark.filter(df_pyspark.age > 2)"
      ],
      "metadata": {
        "id": "Qq_YKeXNWnNn"
      },
      "execution_count": null,
      "outputs": []
    },
    {
      "cell_type": "markdown",
      "source": [
        "Agregações:"
      ],
      "metadata": {
        "id": "Fvn8Qfs-W0KX"
      }
    },
    {
      "cell_type": "code",
      "source": [
        "print(df_pandas.columns)\n"
      ],
      "metadata": {
        "colab": {
          "base_uri": "https://localhost:8080/"
        },
        "id": "15_mQnS_DJCQ",
        "outputId": "31d8b12f-ac85-4038-98ab-089aa26762ae"
      },
      "execution_count": null,
      "outputs": [
        {
          "output_type": "stream",
          "name": "stdout",
          "text": [
            "Index(['brand', 'model', 'transmission', 'age', 'fuel', 'engine', 'km',\n",
            "       'owner', 'price', 'location', 'mileage', 'power', 'seats', 'type'],\n",
            "      dtype='object')\n"
          ]
        }
      ]
    },
    {
      "cell_type": "code",
      "source": [
        "df_agregado_pandas = df_pandas.groupby('brand')['age'].mean().reset_index()\n"
      ],
      "metadata": {
        "id": "5QydNn3yWzkK"
      },
      "execution_count": null,
      "outputs": []
    },
    {
      "cell_type": "code",
      "source": [
        "from pyspark.sql.functions import avg\n",
        "\n",
        "# Calcula a média de 'age' agrupada por 'brand'\n",
        "df_agregado_spark = df_pyspark.groupBy(\"brand\").agg(avg(\"age\").alias(\"media_age\"))\n",
        "\n"
      ],
      "metadata": {
        "id": "OeiAonaAW5Cy"
      },
      "execution_count": null,
      "outputs": []
    },
    {
      "cell_type": "code",
      "source": [
        "df_selecionado_spark.show(5)\n",
        "df_filtrado_spark.show(5)\n",
        "df_agregado_spark.show(5)"
      ],
      "metadata": {
        "colab": {
          "base_uri": "https://localhost:8080/"
        },
        "id": "tjTgUhdMuBqf",
        "outputId": "a8db79d7-a2ec-4db8-ecb0-2e5c675274ee"
      },
      "execution_count": null,
      "outputs": [
        {
          "output_type": "stream",
          "name": "stdout",
          "text": [
            "+--------+--------+---+\n",
            "|   brand|   model|age|\n",
            "+--------+--------+---+\n",
            "|mahindra|    thar|4.0|\n",
            "| hyundai|   verna|6.0|\n",
            "|    tata| harrier|2.0|\n",
            "|   honda|    city|1.0|\n",
            "|    ford|ecosport|3.0|\n",
            "+--------+--------+---+\n",
            "only showing top 5 rows\n",
            "\n",
            "+--------+--------+------------+---+------+------+-------+-----+---------+--------+-------+-----+-----+----+\n",
            "|   brand|   model|transmission|age|  fuel|engine|     km|owner|    price|location|mileage|power|seats|type|\n",
            "+--------+--------+------------+---+------+------+-------+-----+---------+--------+-------+-----+-----+----+\n",
            "|mahindra|    thar|      manual|4.0|diesel|2184.0|11003.0|  1.0|1231000.0|    NULL|   NULL| NULL| NULL|NULL|\n",
            "| hyundai|   verna|      manual|6.0|petrol|1591.0|66936.0|  1.0| 786000.0|    NULL|   NULL| NULL| NULL|NULL|\n",
            "|    ford|ecosport|      manual|3.0|diesel|1498.0|23480.0|  1.0| 887000.0|    NULL|   NULL| NULL| NULL|NULL|\n",
            "|   honda|    wr-v|      manual|3.0|petrol|1199.0|44787.0|  1.0| 796000.0|    NULL|   NULL| NULL| NULL|NULL|\n",
            "|    tata|   nexon|   automatic|4.0|diesel|  NULL|59866.0|  1.0| 728000.0|    NULL|   NULL| NULL| NULL|NULL|\n",
            "+--------+--------+------------+---+------+------+-------+-----+---------+--------+-------+-----+-----+----+\n",
            "only showing top 5 rows\n",
            "\n",
            "+----------+-----------------+\n",
            "|     brand|        media_age|\n",
            "+----------+-----------------+\n",
            "|    jaguar|7.652631578947369|\n",
            "|land rover|6.081632653061225|\n",
            "|  mahindra|6.606451612903226|\n",
            "|      tata|5.133499170812604|\n",
            "|mitsubishi|12.88888888888889|\n",
            "+----------+-----------------+\n",
            "only showing top 5 rows\n",
            "\n"
          ]
        }
      ]
    },
    {
      "cell_type": "markdown",
      "source": [
        "Junções (Joins):"
      ],
      "metadata": {
        "id": "gMjrtx18F3gy"
      }
    },
    {
      "cell_type": "code",
      "source": [
        "print(df1.columns)\n",
        "print(df2.columns)\n"
      ],
      "metadata": {
        "colab": {
          "base_uri": "https://localhost:8080/"
        },
        "id": "CXjvA6jdEZp0",
        "outputId": "c6a506a5-9d66-44ee-fc43-068354b46c4b"
      },
      "execution_count": null,
      "outputs": [
        {
          "output_type": "stream",
          "name": "stdout",
          "text": [
            "Index(['brand', 'model', 'transmission', 'age', 'fuel', 'engine', 'km',\n",
            "       'owner', 'price', 'location', 'mileage', 'power', 'seats', 'type'],\n",
            "      dtype='object')\n",
            "Index(['id', 'title', 'type', 'genres', 'averageRating', 'numVotes',\n",
            "       'releaseYear'],\n",
            "      dtype='object')\n"
          ]
        }
      ]
    },
    {
      "cell_type": "code",
      "source": [
        "# Junção de dois DataFrames pandas\n",
        "df1['key'] = df1.index\n",
        "df2['key'] = df2.index\n",
        "\n",
        "df_juncao = pd.merge(df1, df2, on='key', how='left')\n"
      ],
      "metadata": {
        "id": "kdBiDsnpF6AM"
      },
      "execution_count": null,
      "outputs": []
    },
    {
      "cell_type": "code",
      "source": [
        "from pyspark.sql import SparkSession\n",
        "from pyspark.sql.functions import monotonically_increasing_id\n",
        "\n",
        "# Inicializa o SparkSession\n",
        "spark = SparkSession.builder.appName(\"Example\").getOrCreate()\n",
        "\n",
        "# Lê os DataFrames\n",
        "df1 = spark.read.csv(\"/root/.cache/kagglehub/datasets/satvshr/top-4-used-car-sales-datasets-combined/versions/2/output.csv\", header=True, inferSchema=True)\n",
        "df2 = spark.read.csv(\"/root/.cache/kagglehub/datasets/octopusteam/imdb-top-rated-titles-movies-and-tv-series/versions/13/data.csv\", header=True, inferSchema=True)\n",
        "\n",
        "# Adiciona uma coluna de chave a ambos os DataFrames\n",
        "df1 = df1.withColumn(\"key\", monotonically_increasing_id())\n",
        "df2 = df2.withColumn(\"key\", monotonically_increasing_id())\n",
        "\n",
        "# Faz a junção usando a coluna de chave\n",
        "df_juncao = df1.join(df2, on=\"key\", how=\"left\")\n",
        "\n",
        "# Exibe o resultado\n",
        "df_juncao.show()\n"
      ],
      "metadata": {
        "id": "_p6-Ad3MF9PX",
        "colab": {
          "base_uri": "https://localhost:8080/"
        },
        "outputId": "570bdc12-ea89-4129-d679-29db702134af"
      },
      "execution_count": null,
      "outputs": [
        {
          "output_type": "stream",
          "name": "stdout",
          "text": [
            "+---+--------+--------+------------+----+------+------+-------+-----+---------+--------+-------+-----+-----+----+----------+--------------------+------------+--------------------+-------------+--------+-----------+\n",
            "|key|   brand|   model|transmission| age|  fuel|engine|     km|owner|    price|location|mileage|power|seats|type|        id|               title|        type|              genres|averageRating|numVotes|releaseYear|\n",
            "+---+--------+--------+------------+----+------+------+-------+-----+---------+--------+-------+-----+-----+----+----------+--------------------+------------+--------------------+-------------+--------+-----------+\n",
            "|  0|mahindra|    thar|      manual| 4.0|diesel|2184.0|11003.0|  1.0|1231000.0|    NULL|   NULL| NULL| NULL|NULL| tt0903747|        Breaking Bad|    tvSeries|Crime, Drama, Thr...|          9.5| 2220756|       2008|\n",
            "|  1| hyundai|   verna|      manual| 6.0|petrol|1591.0|66936.0|  1.0| 786000.0|    NULL|   NULL| NULL| NULL|NULL| tt5491994|     Planet Earth II|tvMiniSeries|         Documentary|          9.5|  161283|       2016|\n",
            "|  2|    tata| harrier|      manual| 2.0|diesel|1956.0|27990.0|  1.0|1489000.0|    NULL|   NULL| NULL| NULL|NULL| tt0185906|    Band of Brothers|tvMiniSeries| Drama, History, War|          9.4|  542837|       2001|\n",
            "|  3|   honda|    city|   automatic| 1.0|petrol|1498.0| 5061.0|  1.0|1227000.0|    NULL|   NULL| NULL| NULL|NULL| tt0795176|        Planet Earth|tvMiniSeries| Documentary, Family|          9.4|  222817|       2006|\n",
            "|  4|    ford|ecosport|      manual| 3.0|diesel|1498.0|23480.0|  1.0| 887000.0|    NULL|   NULL| NULL| NULL|NULL| tt5152226|        Tree of Life|    tvSeries|               Drama|          9.4|   11445|       2014|\n",
            "|  5|   honda|    wr-v|      manual| 3.0|petrol|1199.0|44787.0|  1.0| 796000.0|    NULL|   NULL| NULL| NULL|NULL| tt0111161|The Shawshank Red...|       movie|               Drama|          9.3| 2953131|       1994|\n",
            "|  6|    tata|   punch|      manual| 2.0|petrol|1199.0|  450.0|  1.0| 813000.0|    NULL|   NULL| NULL| NULL|NULL| tt7366338|           Chernobyl|tvMiniSeries|Drama, History, T...|          9.3|  900125|       2019|\n",
            "|  7|    tata|   nexon|   automatic| 4.0|diesel|  NULL|59866.0|  1.0| 728000.0|    NULL|   NULL| NULL| NULL|NULL| tt0306414|            The Wire|    tvSeries|Crime, Drama, Thr...|          9.3|  388536|       2002|\n",
            "|  8|mahindra|  xuv700|   automatic| 2.0|diesel|2184.0|62567.0|  1.0|2322000.0|    NULL|   NULL| NULL| NULL|NULL| tt0417299|Avatar: The Last ...|    tvSeries|Action, Adventure...|          9.3|  386970|       2005|\n",
            "|  9|    ford|ecosport|   automatic| 5.0|petrol|1497.0|58503.0|  1.0| 766000.0|    NULL|   NULL| NULL| NULL|NULL|tt30263074|   Sapne Vs Everyone|    tvSeries|               Drama|          9.3|   70674|       2023|\n",
            "| 10|  maruti|   dzire|      manual| 6.0|petrol|1197.0|58159.0|  1.0| 471000.0|    NULL|   NULL| NULL| NULL|NULL| tt6769208|      Blue Planet II|tvMiniSeries|         Documentary|          9.3|   48120|       2017|\n",
            "| 11| hyundai|   grand|      manual| 1.0|petrol|1197.0|15568.0|  1.0| 689000.0|    NULL|   NULL| NULL| NULL|NULL| tt0081846|              Cosmos|tvMiniSeries|         Documentary|          9.3|   45175|       1980|\n",
            "| 12|    tata|   tiago|      manual| 1.0|petrol|1199.0| 6676.0|  1.0| 536000.0|    NULL|   NULL| NULL| NULL|NULL| tt7678620|               Bluey|    tvSeries|   Animation, Family|          9.3|   32304|       2018|\n",
            "| 13| hyundai|   creta|      manual| 6.0|petrol|  NULL|59085.0|  1.0| 823000.0|    NULL|   NULL| NULL| NULL|NULL| tt9002164|         BB Ki Vines|    tvSeries|              Comedy|          9.3|   11245|       2015|\n",
            "| 14|  maruti|    alto|      manual| 6.0|petrol| 998.0|52966.0|  1.0| 310000.0|    NULL|   NULL| NULL| NULL|NULL| tt0944947|     Game of Thrones|    tvSeries|Action, Adventure...|          9.2| 2355676|       2011|\n",
            "| 15| hyundai|   verna|      manual| 4.0|diesel|1582.0|60592.0|  1.0| 993000.0|    NULL|   NULL| NULL| NULL|NULL| tt0068646|       The Godfather|       movie|        Crime, Drama|          9.2| 2058741|       1972|\n",
            "| 16|  maruti|    alto|   automatic|10.0|petrol| 998.0|71297.0|  1.0| 265000.0|    NULL|   NULL| NULL| NULL|NULL| tt0141842|        The Sopranos|    tvSeries|        Crime, Drama|          9.2|  493994|       1999|\n",
            "| 17|   honda|   amaze|      manual| 2.0|petrol|1199.0|15935.0|  1.0| 699000.0|    NULL|   NULL| NULL| NULL|NULL|tt14392248|           Aspirants|    tvSeries|               Drama|          9.2|  313454|       2021|\n",
            "| 18|     kia|  seltos|      manual| 3.0|diesel|1493.0|71040.0|  1.0| 980000.0|    NULL|   NULL| NULL| NULL|NULL|tt12392504|Scam 1992: The Ha...|tvMiniSeries|Biography, Crime,...|          9.2|  160096|       2020|\n",
            "| 19| hyundai|   grand|      manual| 1.0|petrol|1197.0| 2850.0|  1.0| 710000.0|    NULL|   NULL| NULL| NULL|NULL| tt2395695|Cosmos: A Spaceti...|tvMiniSeries|         Documentary|          9.2|  130567|       2014|\n",
            "+---+--------+--------+------------+----+------+------+-------+-----+---------+--------+-------+-----+-----+----+----------+--------------------+------------+--------------------+-------------+--------+-----------+\n",
            "only showing top 20 rows\n",
            "\n"
          ]
        }
      ]
    },
    {
      "cell_type": "markdown",
      "source": [
        "Criação de Novas Colunas:"
      ],
      "metadata": {
        "id": "KyHq7N4UGCT9"
      }
    },
    {
      "cell_type": "code",
      "source": [
        "# Cria uma nova coluna 'nova_coluna' como a soma de 'coluna1' e 'coluna2'\n",
        "df_pandas['nova_coluna'] = df_pandas['coluna1'] + df_pandas['coluna2']"
      ],
      "metadata": {
        "id": "F-JSPVrfGEIz",
        "colab": {
          "base_uri": "https://localhost:8080/",
          "height": 547
        },
        "outputId": "fce69559-7c1d-4c1b-82ae-26aadc06e076"
      },
      "execution_count": null,
      "outputs": [
        {
          "output_type": "error",
          "ename": "KeyError",
          "evalue": "'coluna1'",
          "traceback": [
            "\u001b[0;31m---------------------------------------------------------------------------\u001b[0m",
            "\u001b[0;31mKeyError\u001b[0m                                  Traceback (most recent call last)",
            "\u001b[0;32m/usr/local/lib/python3.10/dist-packages/pandas/core/indexes/base.py\u001b[0m in \u001b[0;36mget_loc\u001b[0;34m(self, key)\u001b[0m\n\u001b[1;32m   3804\u001b[0m         \u001b[0;32mtry\u001b[0m\u001b[0;34m:\u001b[0m\u001b[0;34m\u001b[0m\u001b[0;34m\u001b[0m\u001b[0m\n\u001b[0;32m-> 3805\u001b[0;31m             \u001b[0;32mreturn\u001b[0m \u001b[0mself\u001b[0m\u001b[0;34m.\u001b[0m\u001b[0m_engine\u001b[0m\u001b[0;34m.\u001b[0m\u001b[0mget_loc\u001b[0m\u001b[0;34m(\u001b[0m\u001b[0mcasted_key\u001b[0m\u001b[0;34m)\u001b[0m\u001b[0;34m\u001b[0m\u001b[0;34m\u001b[0m\u001b[0m\n\u001b[0m\u001b[1;32m   3806\u001b[0m         \u001b[0;32mexcept\u001b[0m \u001b[0mKeyError\u001b[0m \u001b[0;32mas\u001b[0m \u001b[0merr\u001b[0m\u001b[0;34m:\u001b[0m\u001b[0;34m\u001b[0m\u001b[0;34m\u001b[0m\u001b[0m\n",
            "\u001b[0;32mindex.pyx\u001b[0m in \u001b[0;36mpandas._libs.index.IndexEngine.get_loc\u001b[0;34m()\u001b[0m\n",
            "\u001b[0;32mindex.pyx\u001b[0m in \u001b[0;36mpandas._libs.index.IndexEngine.get_loc\u001b[0;34m()\u001b[0m\n",
            "\u001b[0;32mpandas/_libs/hashtable_class_helper.pxi\u001b[0m in \u001b[0;36mpandas._libs.hashtable.PyObjectHashTable.get_item\u001b[0;34m()\u001b[0m\n",
            "\u001b[0;32mpandas/_libs/hashtable_class_helper.pxi\u001b[0m in \u001b[0;36mpandas._libs.hashtable.PyObjectHashTable.get_item\u001b[0;34m()\u001b[0m\n",
            "\u001b[0;31mKeyError\u001b[0m: 'coluna1'",
            "\nThe above exception was the direct cause of the following exception:\n",
            "\u001b[0;31mKeyError\u001b[0m                                  Traceback (most recent call last)",
            "\u001b[0;32m<ipython-input-41-bbc1c4c35f37>\u001b[0m in \u001b[0;36m<cell line: 2>\u001b[0;34m()\u001b[0m\n\u001b[1;32m      1\u001b[0m \u001b[0;31m# Cria uma nova coluna 'nova_coluna' como a soma de 'coluna1' e 'coluna2'\u001b[0m\u001b[0;34m\u001b[0m\u001b[0;34m\u001b[0m\u001b[0m\n\u001b[0;32m----> 2\u001b[0;31m \u001b[0mdf_pandas\u001b[0m\u001b[0;34m[\u001b[0m\u001b[0;34m'nova_coluna'\u001b[0m\u001b[0;34m]\u001b[0m \u001b[0;34m=\u001b[0m \u001b[0mdf_pandas\u001b[0m\u001b[0;34m[\u001b[0m\u001b[0;34m'coluna1'\u001b[0m\u001b[0;34m]\u001b[0m \u001b[0;34m+\u001b[0m \u001b[0mdf_pandas\u001b[0m\u001b[0;34m[\u001b[0m\u001b[0;34m'coluna2'\u001b[0m\u001b[0;34m]\u001b[0m\u001b[0;34m\u001b[0m\u001b[0;34m\u001b[0m\u001b[0m\n\u001b[0m",
            "\u001b[0;32m/usr/local/lib/python3.10/dist-packages/pandas/core/frame.py\u001b[0m in \u001b[0;36m__getitem__\u001b[0;34m(self, key)\u001b[0m\n\u001b[1;32m   4100\u001b[0m             \u001b[0;32mif\u001b[0m \u001b[0mself\u001b[0m\u001b[0;34m.\u001b[0m\u001b[0mcolumns\u001b[0m\u001b[0;34m.\u001b[0m\u001b[0mnlevels\u001b[0m \u001b[0;34m>\u001b[0m \u001b[0;36m1\u001b[0m\u001b[0;34m:\u001b[0m\u001b[0;34m\u001b[0m\u001b[0;34m\u001b[0m\u001b[0m\n\u001b[1;32m   4101\u001b[0m                 \u001b[0;32mreturn\u001b[0m \u001b[0mself\u001b[0m\u001b[0;34m.\u001b[0m\u001b[0m_getitem_multilevel\u001b[0m\u001b[0;34m(\u001b[0m\u001b[0mkey\u001b[0m\u001b[0;34m)\u001b[0m\u001b[0;34m\u001b[0m\u001b[0;34m\u001b[0m\u001b[0m\n\u001b[0;32m-> 4102\u001b[0;31m             \u001b[0mindexer\u001b[0m \u001b[0;34m=\u001b[0m \u001b[0mself\u001b[0m\u001b[0;34m.\u001b[0m\u001b[0mcolumns\u001b[0m\u001b[0;34m.\u001b[0m\u001b[0mget_loc\u001b[0m\u001b[0;34m(\u001b[0m\u001b[0mkey\u001b[0m\u001b[0;34m)\u001b[0m\u001b[0;34m\u001b[0m\u001b[0;34m\u001b[0m\u001b[0m\n\u001b[0m\u001b[1;32m   4103\u001b[0m             \u001b[0;32mif\u001b[0m \u001b[0mis_integer\u001b[0m\u001b[0;34m(\u001b[0m\u001b[0mindexer\u001b[0m\u001b[0;34m)\u001b[0m\u001b[0;34m:\u001b[0m\u001b[0;34m\u001b[0m\u001b[0;34m\u001b[0m\u001b[0m\n\u001b[1;32m   4104\u001b[0m                 \u001b[0mindexer\u001b[0m \u001b[0;34m=\u001b[0m \u001b[0;34m[\u001b[0m\u001b[0mindexer\u001b[0m\u001b[0;34m]\u001b[0m\u001b[0;34m\u001b[0m\u001b[0;34m\u001b[0m\u001b[0m\n",
            "\u001b[0;32m/usr/local/lib/python3.10/dist-packages/pandas/core/indexes/base.py\u001b[0m in \u001b[0;36mget_loc\u001b[0;34m(self, key)\u001b[0m\n\u001b[1;32m   3810\u001b[0m             ):\n\u001b[1;32m   3811\u001b[0m                 \u001b[0;32mraise\u001b[0m \u001b[0mInvalidIndexError\u001b[0m\u001b[0;34m(\u001b[0m\u001b[0mkey\u001b[0m\u001b[0;34m)\u001b[0m\u001b[0;34m\u001b[0m\u001b[0;34m\u001b[0m\u001b[0m\n\u001b[0;32m-> 3812\u001b[0;31m             \u001b[0;32mraise\u001b[0m \u001b[0mKeyError\u001b[0m\u001b[0;34m(\u001b[0m\u001b[0mkey\u001b[0m\u001b[0;34m)\u001b[0m \u001b[0;32mfrom\u001b[0m \u001b[0merr\u001b[0m\u001b[0;34m\u001b[0m\u001b[0;34m\u001b[0m\u001b[0m\n\u001b[0m\u001b[1;32m   3813\u001b[0m         \u001b[0;32mexcept\u001b[0m \u001b[0mTypeError\u001b[0m\u001b[0;34m:\u001b[0m\u001b[0;34m\u001b[0m\u001b[0;34m\u001b[0m\u001b[0m\n\u001b[1;32m   3814\u001b[0m             \u001b[0;31m# If we have a listlike key, _check_indexing_error will raise\u001b[0m\u001b[0;34m\u001b[0m\u001b[0;34m\u001b[0m\u001b[0m\n",
            "\u001b[0;31mKeyError\u001b[0m: 'coluna1'"
          ]
        }
      ]
    },
    {
      "cell_type": "code",
      "source": [
        "from pyspark.sql.functions import col\n",
        "\n",
        "# Cria uma nova coluna 'nova_coluna' como a soma de 'coluna1' e 'coluna2'\n",
        "df_pyspark = df_pyspark.withColumn(\"nova_coluna\", col(\"coluna1\") + col(\"coluna2\"))\n"
      ],
      "metadata": {
        "id": "YtKNc4XfGGQp"
      },
      "execution_count": null,
      "outputs": []
    },
    {
      "cell_type": "markdown",
      "source": [
        "Ordenação de Dados:"
      ],
      "metadata": {
        "id": "il5SISWCGK7O"
      }
    },
    {
      "cell_type": "code",
      "source": [
        "# Ordena o DataFrame pelo 'coluna1' em ordem descendente\n",
        "df_pandas_ordenado = df_pandas.sort_values(by='coluna1', ascending=False)"
      ],
      "metadata": {
        "id": "a9vHllFkGJol"
      },
      "execution_count": null,
      "outputs": []
    },
    {
      "cell_type": "code",
      "source": [
        "# Ordena o DataFrame pelo 'coluna1' em ordem descendente\n",
        "df_pyspark_ordenado = df_pyspark.orderBy(df_pyspark.coluna1.desc())"
      ],
      "metadata": {
        "id": "A8CU8GXLGNbD"
      },
      "execution_count": null,
      "outputs": []
    }
  ]
}