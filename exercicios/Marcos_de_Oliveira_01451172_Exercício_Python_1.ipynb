{
  "nbformat": 4,
  "nbformat_minor": 0,
  "metadata": {
    "colab": {
      "provenance": [],
      "include_colab_link": true
    },
    "kernelspec": {
      "name": "python3",
      "display_name": "Python 3"
    },
    "language_info": {
      "name": "python"
    }
  },
  "cells": [
    {
      "cell_type": "markdown",
      "metadata": {
        "id": "view-in-github",
        "colab_type": "text"
      },
      "source": [
        "<a href=\"https://colab.research.google.com/github/eumarcosdeoliveira/Os-Amostradinhos/blob/main/Marcos_de_Oliveira_01451172_Exerc%C3%ADcio_Python_1.ipynb\" target=\"_parent\"><img src=\"https://colab.research.google.com/assets/colab-badge.svg\" alt=\"Open In Colab\"/></a>"
      ]
    },
    {
      "cell_type": "markdown",
      "source": [
        "**Exercício 1 - Aquecimento de Python para Ciência de Dados**"
      ],
      "metadata": {
        "id": "f6oYv9LEcR8T"
      }
    },
    {
      "cell_type": "markdown",
      "source": [
        "1. Imprima \"Hello, World!\" no console."
      ],
      "metadata": {
        "id": "v4GVV_w1cYEY"
      }
    },
    {
      "cell_type": "code",
      "execution_count": null,
      "metadata": {
        "id": "dJ12k9hPcNAg"
      },
      "outputs": [],
      "source": [
        "print(\"Hello, World!\")"
      ]
    },
    {
      "cell_type": "markdown",
      "source": [
        "2. Crie uma variável x com valor 10 e imprima seu valor."
      ],
      "metadata": {
        "id": "ADK7MX25ciYu"
      }
    },
    {
      "cell_type": "code",
      "source": [
        "x = 10\n",
        "print(x)"
      ],
      "metadata": {
        "id": "kk5h1v7ocqel"
      },
      "execution_count": null,
      "outputs": []
    },
    {
      "cell_type": "markdown",
      "source": [
        "3. Some dois números e exiba o resultado."
      ],
      "metadata": {
        "id": "bKry1Lukcq6l"
      }
    },
    {
      "cell_type": "code",
      "source": [
        "num1 = 2\n",
        "num2 = 4\n",
        "\n",
        "soma = num1 + num2\n",
        "\n",
        "print(soma)"
      ],
      "metadata": {
        "id": "S6IyQT4Lc2vf"
      },
      "execution_count": null,
      "outputs": []
    },
    {
      "cell_type": "markdown",
      "source": [
        "4. Verifique se um número é par ou ímpar.\n"
      ],
      "metadata": {
        "id": "6BG1PN9Qc3VA"
      }
    },
    {
      "cell_type": "code",
      "source": [
        "numero = int(input(\"Digite um número: \"))\n",
        "\n",
        "if numero % 2 == 0:\n",
        "    print(numero, \"é um número par.\")\n",
        "else:\n",
        "    print(numero, \"é um número ímpar.\")"
      ],
      "metadata": {
        "id": "K6NLPZoRc7ov"
      },
      "execution_count": null,
      "outputs": []
    },
    {
      "cell_type": "markdown",
      "source": [
        "5. Crie uma função que receba dois números e retorne a soma deles."
      ],
      "metadata": {
        "id": "5dKg-xpvc4xs"
      }
    },
    {
      "cell_type": "code",
      "source": [
        "numero1 = int(input(\"Digite um número: \"))\n",
        "numero2 = int(input(\"Digite outro um número: \"))\n",
        "\n",
        "soma = numero1 + numero2\n",
        "\n",
        "print(\"a soma entre\", numero1, \"e\", numero2, \"é igual a\", soma )"
      ],
      "metadata": {
        "id": "iv1-9Zytc4S3"
      },
      "execution_count": null,
      "outputs": []
    },
    {
      "cell_type": "markdown",
      "source": [
        "6. Crie uma lista com os números de 1 a 5 e imprima-a.\n"
      ],
      "metadata": {
        "id": "zsdBZtyjc_62"
      }
    },
    {
      "cell_type": "code",
      "source": [
        "numeros = list(range(1, 6))\n",
        "print(numeros)"
      ],
      "metadata": {
        "id": "xGgkwH7jdCh-",
        "colab": {
          "base_uri": "https://localhost:8080/"
        },
        "outputId": "2e8485fc-2c21-4fc7-9886-1b1270caa2c1"
      },
      "execution_count": null,
      "outputs": [
        {
          "output_type": "stream",
          "name": "stdout",
          "text": [
            "[1, 2, 3, 4, 5]\n"
          ]
        }
      ]
    },
    {
      "cell_type": "markdown",
      "source": [
        "7. Adicione o número 6 à lista criada na questão anterior.\n"
      ],
      "metadata": {
        "id": "snUAe4qddFsm"
      }
    },
    {
      "cell_type": "code",
      "source": [
        "numeros = list(range(1, 6))\n",
        "numeros.append(6)\n",
        "print(numeros)"
      ],
      "metadata": {
        "id": "QVpSgy7FdGk9",
        "colab": {
          "base_uri": "https://localhost:8080/"
        },
        "outputId": "55e000e4-cd40-4e48-96d7-01c4d0a59a57"
      },
      "execution_count": null,
      "outputs": [
        {
          "output_type": "stream",
          "name": "stdout",
          "text": [
            "[1, 2, 3, 4, 5, 6]\n"
          ]
        }
      ]
    },
    {
      "cell_type": "markdown",
      "source": [
        "8. Remova o número 3 da lista."
      ],
      "metadata": {
        "id": "4HT4BfD1dI8f"
      }
    },
    {
      "cell_type": "code",
      "source": [
        "numeros = list(range(1, 7))\n",
        "numeros.remove(3)\n",
        "print(numeros)\n"
      ],
      "metadata": {
        "id": "QCCxAurPdKjB",
        "colab": {
          "base_uri": "https://localhost:8080/"
        },
        "outputId": "5900a443-806a-4bbd-8f56-b405712e64c8"
      },
      "execution_count": null,
      "outputs": [
        {
          "output_type": "stream",
          "name": "stdout",
          "text": [
            "[1, 2, 4, 5, 6]\n"
          ]
        }
      ]
    },
    {
      "cell_type": "markdown",
      "source": [
        "9. Acesse o terceiro elemento da lista."
      ],
      "metadata": {
        "id": "RyI_EEltdMZt"
      }
    },
    {
      "cell_type": "code",
      "source": [
        "numeros = list(range(1, 7))\n",
        "numeros.remove(3)\n",
        "terceiro_elemento = numeros[2]\n",
        "print(\"O terceiro elemento da lista é:\", terceiro_elemento)"
      ],
      "metadata": {
        "id": "HIkSUt_EdOSD",
        "colab": {
          "base_uri": "https://localhost:8080/"
        },
        "outputId": "63450378-bcba-40f0-888b-f4e9b4723c72"
      },
      "execution_count": null,
      "outputs": [
        {
          "output_type": "stream",
          "name": "stdout",
          "text": [
            "O terceiro elemento da lista é: 4\n"
          ]
        }
      ]
    },
    {
      "cell_type": "markdown",
      "source": [
        "10. Imprima o tamanho da lista."
      ],
      "metadata": {
        "id": "yQjJYNSsdQUI"
      }
    },
    {
      "cell_type": "code",
      "source": [
        "numeros = list(range(1, 5))\n",
        "print(\"O tamanho da lista é:\", len(numeros))"
      ],
      "metadata": {
        "id": "Nz1jOedbdTR-",
        "colab": {
          "base_uri": "https://localhost:8080/"
        },
        "outputId": "52901ac7-dce1-463f-cd96-3ea201ce6080"
      },
      "execution_count": null,
      "outputs": [
        {
          "output_type": "stream",
          "name": "stdout",
          "text": [
            "O tamanho da lista é: 6\n"
          ]
        }
      ]
    },
    {
      "cell_type": "markdown",
      "source": [
        "11. Crie um dicionário com informações de um carro (marca, modelo, ano)."
      ],
      "metadata": {
        "id": "2gm3RaRKdyCg"
      }
    },
    {
      "cell_type": "code",
      "source": [
        "carro = {\n",
        "    \"marca\": \"Toyota\",\n",
        "    \"modelo\": \"Corolla\",\n",
        "    \"ano\": 2020\n",
        "}\n",
        "\n",
        "print(carro)"
      ],
      "metadata": {
        "id": "gL_Svemid1kG",
        "colab": {
          "base_uri": "https://localhost:8080/"
        },
        "outputId": "19a972af-a4da-4113-a627-51810a9a92f6"
      },
      "execution_count": null,
      "outputs": [
        {
          "output_type": "stream",
          "name": "stdout",
          "text": [
            "{'marca': 'Toyota', 'modelo': 'Corolla', 'ano': 2020}\n"
          ]
        }
      ]
    },
    {
      "cell_type": "markdown",
      "source": [
        "12. Acesse o valor associado à chave \"marca\" no dicionário."
      ],
      "metadata": {
        "id": "ng6tNEYtd0hE"
      }
    },
    {
      "cell_type": "code",
      "source": [
        "carro = {\n",
        "    \"marca\": \"Toyota\",\n",
        "    \"modelo\": \"Corolla\",\n",
        "    \"ano\": 2020\n",
        "}\n",
        "\n",
        "marca_do_carro = carro[\"marca\"]\n",
        "\n",
        "print(\"A marca do carro é:\", marca_do_carro)"
      ],
      "metadata": {
        "id": "VPDbrV6Ad0Pn",
        "colab": {
          "base_uri": "https://localhost:8080/"
        },
        "outputId": "bd5a24d5-30f5-4512-dfd5-6bc08dcf429d"
      },
      "execution_count": null,
      "outputs": [
        {
          "output_type": "stream",
          "name": "stdout",
          "text": [
            "A marca do carro é: Toyota\n"
          ]
        }
      ]
    },
    {
      "cell_type": "markdown",
      "source": [
        "13. Adicione uma nova chave \"cor\" com valor \"preto\" ao dicionário."
      ],
      "metadata": {
        "id": "Ov93hI7Td7c9"
      }
    },
    {
      "cell_type": "code",
      "source": [
        "carro = {\n",
        "    \"cor\" : \"preto\",\n",
        "    \"marca\": \"Toyota\",\n",
        "    \"modelo\": \"Corolla\",\n",
        "    \"ano\": 2020\n",
        "}\n",
        "\n",
        "print(carro)"
      ],
      "metadata": {
        "id": "TrQLLfpid69U",
        "colab": {
          "base_uri": "https://localhost:8080/"
        },
        "outputId": "d12c9f77-6600-405e-9072-0b80fa43f5bd"
      },
      "execution_count": null,
      "outputs": [
        {
          "output_type": "stream",
          "name": "stdout",
          "text": [
            "{'cor': 'preto', 'marca': 'Toyota', 'modelo': 'Corolla', 'ano': 2020}\n"
          ]
        }
      ]
    },
    {
      "cell_type": "markdown",
      "source": [
        "14. Verifique se a chave \"modelo\" existe no dicionário.\n",
        "\n",
        "---\n",
        "\n",
        "\n"
      ],
      "metadata": {
        "id": "b_5cOma2d9LP"
      }
    },
    {
      "cell_type": "code",
      "source": [
        "carro = {\n",
        "    \"cor\" : \"preto\",\n",
        "    \"marca\": \"Toyota\",\n",
        "    \"modelo\": \"Corolla\",\n",
        "    \"ano\": 2020,\n",
        "    \"cor\": \"preto\"\n",
        "}\n",
        "\n",
        "if \"modelo\" in carro:\n",
        "    print(\"A chave 'modelo' existe no dicionário.\")\n",
        "else:\n",
        "    print(\"A chave 'modelo' não existe no dicionário.\")"
      ],
      "metadata": {
        "id": "DUMaXPQYd8bM"
      },
      "execution_count": null,
      "outputs": []
    },
    {
      "cell_type": "markdown",
      "source": [
        "15. Itere sobre as chaves do dicionário e imprima cada uma delas."
      ],
      "metadata": {
        "id": "Zpqnxu2ReBZH"
      }
    },
    {
      "cell_type": "code",
      "source": [
        "carro = {\n",
        "    \"cor\" : \"preto\",\n",
        "    \"marca\": \"Toyota\",\n",
        "    \"modelo\": \"Corolla\",\n",
        "    \"ano\": 2020,\n",
        "    \"cor\": \"preto\"\n",
        "}\n",
        "\n",
        "for chave in carro:\n",
        "    print(chave)"
      ],
      "metadata": {
        "id": "4juQCK0veA-g"
      },
      "execution_count": null,
      "outputs": []
    },
    {
      "cell_type": "markdown",
      "source": [
        "15. Itere sobre as chaves do dicionário e imprima cada uma delas."
      ],
      "metadata": {
        "id": "GAoDb4pneG-j"
      }
    },
    {
      "cell_type": "code",
      "source": [
        "carro = {\n",
        "    \"cor\" : \"preto\",\n",
        "    \"marca\": \"Toyota\",\n",
        "    \"modelo\": \"Corolla\",\n",
        "    \"ano\": 2020,\n",
        "    \"cor\": \"preto\"\n",
        "}\n",
        "\n",
        "for chave in carro.keys():\n",
        "    print(chave)"
      ],
      "metadata": {
        "id": "aqi8-PtUeGx5"
      },
      "execution_count": null,
      "outputs": []
    },
    {
      "cell_type": "markdown",
      "source": [
        "17. Crie uma função que receba uma lista e retorne a soma dos elementos."
      ],
      "metadata": {
        "id": "oxI3BVhteGhH"
      }
    },
    {
      "cell_type": "code",
      "source": [
        "def soma_lista(lista):\n",
        "    soma = sum(lista)\n",
        "    return soma\n",
        "\n",
        "numeros = [1, 2, 3, 4, 5]\n",
        "resultado = soma_lista(numeros)\n",
        "\n",
        "print(\"A soma dos elementos da lista é:\", resultado)"
      ],
      "metadata": {
        "id": "Ijnkd3cJeMM_",
        "colab": {
          "base_uri": "https://localhost:8080/"
        },
        "outputId": "e746f6eb-d7ba-4127-ce16-d139ca4d9429"
      },
      "execution_count": null,
      "outputs": [
        {
          "output_type": "stream",
          "name": "stdout",
          "text": [
            "A soma dos elementos da lista é: 15\n"
          ]
        }
      ]
    },
    {
      "cell_type": "markdown",
      "source": [
        "18. Crie uma função que receba um dicionário e retorne todas as suas\n",
        "\n",
        "*   Item da lista\n",
        "*   Item da lista\n",
        "\n",
        "chaves.\n"
      ],
      "metadata": {
        "id": "Abqc7zdfeNl7"
      }
    },
    {
      "cell_type": "code",
      "source": [
        "def obter_chaves(dicionario):\n",
        "    return list(dicionario.keys())\n",
        "\n",
        "carro = {\n",
        "    \"cor\" : \"preto\",\n",
        "    \"marca\": \"Toyota\",\n",
        "    \"modelo\": \"Corolla\",\n",
        "    \"ano\": 2020,\n",
        "    \"cor\": \"preto\"\n",
        "}\n",
        "\n",
        "chaves_do_carro = obter_chaves(carro)\n",
        "\n",
        "print(\"As chaves do dicionário são:\", chaves_do_carro)\n"
      ],
      "metadata": {
        "id": "ZbHQ9bipeQc3",
        "colab": {
          "base_uri": "https://localhost:8080/"
        },
        "outputId": "101fadfb-98fa-4235-e68e-4216976147e3"
      },
      "execution_count": null,
      "outputs": [
        {
          "output_type": "stream",
          "name": "stdout",
          "text": [
            "As chaves do dicionário são: ['cor', 'marca', 'modelo', 'ano']\n"
          ]
        }
      ]
    },
    {
      "cell_type": "markdown",
      "source": [
        "\n",
        "19. Crie uma função que receba um dicionário e imprima chave e valor em linhas separadas."
      ],
      "metadata": {
        "id": "wF_R9JlDeNip"
      }
    },
    {
      "cell_type": "code",
      "source": [
        "def imprimir_chaves_valores(dicionario):\n",
        "    for chave, valor in dicionario.items():\n",
        "        print(f\"Chave: {chave}, Valor: {valor}\")\n",
        "\n",
        "carro = {\n",
        "    \"cor\" : \"preto\",\n",
        "    \"marca\": \"Toyota\",\n",
        "    \"modelo\": \"Corolla\",\n",
        "    \"ano\": 2020,\n",
        "    \"cor\": \"preto\"\n",
        "}\n",
        "\n",
        "imprimir_chaves_valores(carro)\n"
      ],
      "metadata": {
        "id": "ONvkXUDWeVX3"
      },
      "execution_count": null,
      "outputs": []
    },
    {
      "cell_type": "markdown",
      "source": [
        "20. Crie uma classe chamada Pessoa com atributos nome e idade, e um método que imprima esses dados."
      ],
      "metadata": {
        "id": "5ZSYRpJ-eM4s"
      }
    },
    {
      "cell_type": "code",
      "source": [
        "class Pessoa:\n",
        "    def __init__(self, nome, idade):\n",
        "        self.nome = nome\n",
        "        self.idade = idade\n",
        "\n",
        "    def imprimir_dados(self):\n",
        "        print(f\"Nome: {self.nome}, Idade: {self.idade}\")\n",
        "\n",
        "pessoa1 = Pessoa(\"João\", 30)\n",
        "pessoa1.imprimir_dados()\n"
      ],
      "metadata": {
        "id": "RNqpzQzdeYUG"
      },
      "execution_count": null,
      "outputs": []
    }
  ]
}