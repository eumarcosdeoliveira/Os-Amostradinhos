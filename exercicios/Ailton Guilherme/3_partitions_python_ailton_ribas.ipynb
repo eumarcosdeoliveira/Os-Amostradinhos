{
  "nbformat": 4,
  "nbformat_minor": 0,
  "metadata": {
    "colab": {
      "provenance": [],
      "include_colab_link": true
    },
    "kernelspec": {
      "name": "python3",
      "display_name": "Python 3"
    },
    "language_info": {
      "name": "python"
    }
  },
  "cells": [
    {
      "cell_type": "markdown",
      "metadata": {
        "id": "view-in-github",
        "colab_type": "text"
      },
      "source": [
        "<a href=\"https://colab.research.google.com/github/eumarcosdeoliveira/Os-Amostradinhos/blob/Atividades/3_partitions_python_ailton_ribas.ipynb\" target=\"_parent\"><img src=\"https://colab.research.google.com/assets/colab-badge.svg\" alt=\"Open In Colab\"/></a>"
      ]
    },
    {
      "cell_type": "code",
      "execution_count": 2,
      "metadata": {
        "id": "RaVGfQW3dAIU",
        "colab": {
          "base_uri": "https://localhost:8080/"
        },
        "outputId": "ae91ab15-cecd-45dd-e229-3c1b417e474b"
      },
      "outputs": [
        {
          "output_type": "stream",
          "name": "stdout",
          "text": [
            "Requirement already satisfied: pandas in /usr/local/lib/python3.10/dist-packages (2.2.2)\n",
            "Requirement already satisfied: pyarrow in /usr/local/lib/python3.10/dist-packages (17.0.0)\n",
            "Collecting boto3\n",
            "  Downloading boto3-1.35.58-py3-none-any.whl.metadata (6.7 kB)\n",
            "Requirement already satisfied: numpy>=1.22.4 in /usr/local/lib/python3.10/dist-packages (from pandas) (1.26.4)\n",
            "Requirement already satisfied: python-dateutil>=2.8.2 in /usr/local/lib/python3.10/dist-packages (from pandas) (2.8.2)\n",
            "Requirement already satisfied: pytz>=2020.1 in /usr/local/lib/python3.10/dist-packages (from pandas) (2024.2)\n",
            "Requirement already satisfied: tzdata>=2022.7 in /usr/local/lib/python3.10/dist-packages (from pandas) (2024.2)\n",
            "Collecting botocore<1.36.0,>=1.35.58 (from boto3)\n",
            "  Downloading botocore-1.35.58-py3-none-any.whl.metadata (5.7 kB)\n",
            "Collecting jmespath<2.0.0,>=0.7.1 (from boto3)\n",
            "  Downloading jmespath-1.0.1-py3-none-any.whl.metadata (7.6 kB)\n",
            "Collecting s3transfer<0.11.0,>=0.10.0 (from boto3)\n",
            "  Downloading s3transfer-0.10.3-py3-none-any.whl.metadata (1.7 kB)\n",
            "Requirement already satisfied: urllib3!=2.2.0,<3,>=1.25.4 in /usr/local/lib/python3.10/dist-packages (from botocore<1.36.0,>=1.35.58->boto3) (2.2.3)\n",
            "Requirement already satisfied: six>=1.5 in /usr/local/lib/python3.10/dist-packages (from python-dateutil>=2.8.2->pandas) (1.16.0)\n",
            "Downloading boto3-1.35.58-py3-none-any.whl (139 kB)\n",
            "\u001b[2K   \u001b[90m━━━━━━━━━━━━━━━━━━━━━━━━━━━━━━━━━━━━━━━━\u001b[0m \u001b[32m139.2/139.2 kB\u001b[0m \u001b[31m2.9 MB/s\u001b[0m eta \u001b[36m0:00:00\u001b[0m\n",
            "\u001b[?25hDownloading botocore-1.35.58-py3-none-any.whl (12.7 MB)\n",
            "\u001b[2K   \u001b[90m━━━━━━━━━━━━━━━━━━━━━━━━━━━━━━━━━━━━━━━━\u001b[0m \u001b[32m12.7/12.7 MB\u001b[0m \u001b[31m65.0 MB/s\u001b[0m eta \u001b[36m0:00:00\u001b[0m\n",
            "\u001b[?25hDownloading jmespath-1.0.1-py3-none-any.whl (20 kB)\n",
            "Downloading s3transfer-0.10.3-py3-none-any.whl (82 kB)\n",
            "\u001b[2K   \u001b[90m━━━━━━━━━━━━━━━━━━━━━━━━━━━━━━━━━━━━━━━━\u001b[0m \u001b[32m82.6/82.6 kB\u001b[0m \u001b[31m3.1 MB/s\u001b[0m eta \u001b[36m0:00:00\u001b[0m\n",
            "\u001b[?25hInstalling collected packages: jmespath, botocore, s3transfer, boto3\n",
            "Successfully installed boto3-1.35.58 botocore-1.35.58 jmespath-1.0.1 s3transfer-0.10.3\n"
          ]
        }
      ],
      "source": [
        "pip install pandas pyarrow boto3"
      ]
    },
    {
      "cell_type": "code",
      "source": [
        "import boto3\n",
        "\n",
        "# Configuração com as credenciais AWS\n",
        "session = boto3.Session(\n",
        "    aws_access_key_id='---',\n",
        "    aws_secret_access_key='---' ,\n",
        "    region_name='us-east-1'  # Escolha sua região AWS\n",
        ")\n",
        "\n",
        "# Inicializar o cliente S3\n",
        "s3_client = session.client('s3')"
      ],
      "metadata": {
        "id": "7eM6rqi1eO2a"
      },
      "execution_count": 3,
      "outputs": []
    },
    {
      "cell_type": "code",
      "source": [
        "import pandas as pd\n",
        "import pyarrow as pa\n",
        "import pyarrow.parquet as pq\n",
        "from io import BytesIO\n",
        "\n",
        "# Exemplo de DataFrame de dados\n",
        "data = {\n",
        "    'nome': ['Alice', 'Bob', 'Charlie'],\n",
        "    'idade': [24, 27, 22],\n",
        "    'cidade': ['São Paulo', 'Rio de Janeiro', 'Curitiba']\n",
        "}\n",
        "df = pd.DataFrame(data)\n",
        "\n",
        "# Converter DataFrame para tabela Parquet\n",
        "table = pa.Table.from_pandas(df)\n"
      ],
      "metadata": {
        "id": "3he8M1fNenYM"
      },
      "execution_count": 4,
      "outputs": []
    },
    {
      "cell_type": "code",
      "source": [
        "# Buffer em memória para armazenar o arquivo Parquet temporariamente\n",
        "buffer = BytesIO()\n",
        "pq.write_table(table, buffer)\n",
        "buffer.seek(0)  # Mover o cursor para o início do buffer\n",
        "\n",
        "# Nome do bucket e do arquivo no S3\n",
        "bucket_name = 'ribashow666'\n",
        "file_path = 'pasta_destino/dados.parquet'\n",
        "\n",
        "# Cria o bucket se ele nao existir\n",
        "try:\n",
        "  s3_client.create_bucket(Bucket=bucket_name)\n",
        "  print(f\"Bucket '{bucket_name}' criado com sucesso.\")\n",
        "except Exception as e:\n",
        "  print(f\"Erro ao criar o bucket '{bucket_name}': {e}\")\n",
        "  pass\n",
        "\n",
        "# Carregar o arquivo Parquet no S3\n",
        "s3_client.upload_fileobj(buffer, bucket_name, file_path)\n",
        "print(f\"Arquivo salvo no S3 em: s3://{bucket_name}/{file_path}\")\n"
      ],
      "metadata": {
        "colab": {
          "base_uri": "https://localhost:8080/"
        },
        "id": "7ZtB0TGP-B-X",
        "outputId": "01ac1663-cc4a-4519-854d-5dc25f079e1a"
      },
      "execution_count": 5,
      "outputs": [
        {
          "output_type": "stream",
          "name": "stdout",
          "text": [
            "Bucket 'ribashow666' criado com sucesso.\n",
            "Arquivo salvo no S3 em: s3://ribashow666/pasta_destino/dados.parquet\n"
          ]
        }
      ]
    },
    {
      "cell_type": "code",
      "source": [
        "import pandas as pd\n",
        "import pyarrow as pa\n",
        "import pyarrow.parquet as pq\n",
        "import boto3\n",
        "import os\n",
        "import datetime\n",
        "\n",
        "# Configuração do S3\n",
        "partitioned_output_path = 'california_housing_partitioned/'  # Caminho dentro do bucket S3\n",
        "bucket_name = 'ribashow666'  # Substitua pelo nome do seu bucket S3\n",
        "\n",
        "# Carregar o dataset California Housing do arquivo CSV\n",
        "# Certifique-se de que o arquivo CSV foi baixado do Kaggle ou é acessível localmente\n",
        "df = pd.read_csv('/content/sample_data/california_housing_train.csv')\n",
        "\n",
        "# Exibir as primeiras linhas para entender o formato dos dados\n",
        "df.head()\n",
        "\n",
        "# As colunas do dataset incluem 'longitude', 'latitude', 'housing_median_age', 'total_rooms',\n",
        "# 'total_bedrooms', 'population', 'households', 'median_income', 'median_house_value'\n",
        "\n",
        "# Para particionamento, podemos usar por exemplo: 'median_income' (faixa de renda) ou 'housing_median_age'\n",
        "# Aqui, vamos criar uma partição com base em 'housing_median_age' (faixa etária da casa)\n",
        "# Vamos assumir que queremos particionar por faixa etária (categorizar em faixas)\n",
        "\n",
        "df['housing_median_age'] = df['housing_median_age'].astype(int)\n",
        "\n",
        "# Dividir em faixas de idade de casa (como exemplo para particionamento)\n",
        "bins = [0, 10, 20, 30, 40, 50, 60, 100]\n",
        "labels = ['0-10', '11-20', '21-30', '31-40', '41-50', '51-60', '60+']\n",
        "df['age_group'] = pd.cut(df['housing_median_age'], bins=bins, labels=labels, right=False)\n",
        "\n",
        "# Converter para uma tabela do PyArrow\n",
        "table = pa.Table.from_pandas(df)\n",
        "\n",
        "# Função para salvar a tabela particionada em S3\n",
        "def save_partitioned_to_s3(table, bucket_name, output_path, partition_cols=['age_group']):\n",
        "    # Salva os dados particionados em um diretório temporário local\n",
        "    temp_output_path = \"/tmp/california_housing_partitioned\"\n",
        "    pq.write_to_dataset(\n",
        "        table,\n",
        "        root_path=temp_output_path,\n",
        "        partition_cols=partition_cols\n",
        "    )\n",
        "\n",
        "    # Criar cliente S3 with credentials\n",
        "    session = boto3.Session(\n",
        "        aws_access_key_id='---', # Replace with your AWS access key ID\n",
        "        aws_secret_access_key='---', # Replace with your AWS secret access key\n",
        "        region_name='us-east-1'  # Replace with your AWS region\n",
        "    )\n",
        "    s3_client = session.client('s3')\n",
        "\n",
        "\n",
        "    # Para cada arquivo Parquet particionado, faça upload para o S3\n",
        "    for root, dirs, files in os.walk(temp_output_path):\n",
        "        for file in files:\n",
        "            if file.endswith(\".parquet\"):\n",
        "                local_file_path = os.path.join(root, file)\n",
        "                # Calcula o caminho relativo dentro do diretório temporário\n",
        "                relative_path = os.path.relpath(local_file_path, temp_output_path)\n",
        "                s3_file_path = os.path.join(output_path, relative_path)\n",
        "\n",
        "                # Carregar o arquivo Parquet para o S3\n",
        "                with open(local_file_path, 'rb') as f:\n",
        "                    s3_client.upload_fileobj(f, bucket_name, s3_file_path)\n",
        "                print(f\"Arquivo carregado no S3 em: s3://{bucket_name}/{s3_file_path}\")\n",
        "\n",
        "# Executar a função de salvamento particionado\n",
        "save_partitioned_to_s3(table, bucket_name, partitioned_output_path)\n"
      ],
      "metadata": {
        "colab": {
          "base_uri": "https://localhost:8080/"
        },
        "id": "F1iETCqP-Hq0",
        "outputId": "c243c43a-2ecb-45eb-f7c2-d6dcb9c7ed6c"
      },
      "execution_count": 15,
      "outputs": [
        {
          "output_type": "stream",
          "name": "stdout",
          "text": [
            "Arquivo carregado no S3 em: s3://ribashow666/california_housing_partitioned/age_group=51-60/b63e91b78d16485eaeee97682c6f08b5-0.parquet\n",
            "Arquivo carregado no S3 em: s3://ribashow666/california_housing_partitioned/age_group=51-60/563c38735dbb4e72a80aa0e5eee89afd-0.parquet\n",
            "Arquivo carregado no S3 em: s3://ribashow666/california_housing_partitioned/age_group=51-60/5b41d822d66f4f60b053635149b8503f-0.parquet\n",
            "Arquivo carregado no S3 em: s3://ribashow666/california_housing_partitioned/age_group=41-50/b63e91b78d16485eaeee97682c6f08b5-0.parquet\n",
            "Arquivo carregado no S3 em: s3://ribashow666/california_housing_partitioned/age_group=41-50/563c38735dbb4e72a80aa0e5eee89afd-0.parquet\n",
            "Arquivo carregado no S3 em: s3://ribashow666/california_housing_partitioned/age_group=41-50/5b41d822d66f4f60b053635149b8503f-0.parquet\n",
            "Arquivo carregado no S3 em: s3://ribashow666/california_housing_partitioned/age_group=0-10/b63e91b78d16485eaeee97682c6f08b5-0.parquet\n",
            "Arquivo carregado no S3 em: s3://ribashow666/california_housing_partitioned/age_group=0-10/563c38735dbb4e72a80aa0e5eee89afd-0.parquet\n",
            "Arquivo carregado no S3 em: s3://ribashow666/california_housing_partitioned/age_group=0-10/5b41d822d66f4f60b053635149b8503f-0.parquet\n",
            "Arquivo carregado no S3 em: s3://ribashow666/california_housing_partitioned/age_group=11-20/b63e91b78d16485eaeee97682c6f08b5-0.parquet\n",
            "Arquivo carregado no S3 em: s3://ribashow666/california_housing_partitioned/age_group=11-20/563c38735dbb4e72a80aa0e5eee89afd-0.parquet\n",
            "Arquivo carregado no S3 em: s3://ribashow666/california_housing_partitioned/age_group=11-20/5b41d822d66f4f60b053635149b8503f-0.parquet\n",
            "Arquivo carregado no S3 em: s3://ribashow666/california_housing_partitioned/age_group=21-30/b63e91b78d16485eaeee97682c6f08b5-0.parquet\n",
            "Arquivo carregado no S3 em: s3://ribashow666/california_housing_partitioned/age_group=21-30/563c38735dbb4e72a80aa0e5eee89afd-0.parquet\n",
            "Arquivo carregado no S3 em: s3://ribashow666/california_housing_partitioned/age_group=21-30/5b41d822d66f4f60b053635149b8503f-0.parquet\n",
            "Arquivo carregado no S3 em: s3://ribashow666/california_housing_partitioned/age_group=31-40/b63e91b78d16485eaeee97682c6f08b5-0.parquet\n",
            "Arquivo carregado no S3 em: s3://ribashow666/california_housing_partitioned/age_group=31-40/563c38735dbb4e72a80aa0e5eee89afd-0.parquet\n",
            "Arquivo carregado no S3 em: s3://ribashow666/california_housing_partitioned/age_group=31-40/5b41d822d66f4f60b053635149b8503f-0.parquet\n"
          ]
        }
      ]
    }
  ]
}