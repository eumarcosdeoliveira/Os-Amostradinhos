{
  "cells": [
    {
      "cell_type": "markdown",
      "metadata": {
        "id": "view-in-github",
        "colab_type": "text"
      },
      "source": [
        "<a href=\"https://colab.research.google.com/github/eumarcosdeoliveira/Os-Amostradinhos/blob/Atividades/sparkAilton.ipynb\" target=\"_parent\"><img src=\"https://colab.research.google.com/assets/colab-badge.svg\" alt=\"Open In Colab\"/></a>"
      ]
    },
    {
      "cell_type": "code",
      "execution_count": null,
      "metadata": {
        "id": "sAfDNfM1EOOv",
        "outputId": "6d29d810-0b62-4f99-8d11-ade0b92d1760"
      },
      "outputs": [
        {
          "name": "stdout",
          "output_type": "stream",
          "text": [
            "Collecting kagglehub\n",
            "  Downloading kagglehub-0.3.3-py3-none-any.whl.metadata (22 kB)\n",
            "Requirement already satisfied: packaging in c:\\users\\guilh\\appdata\\local\\programs\\python\\python312\\lib\\site-packages (from kagglehub) (23.2)\n",
            "Requirement already satisfied: requests in c:\\users\\guilh\\appdata\\local\\programs\\python\\python312\\lib\\site-packages (from kagglehub) (2.31.0)\n",
            "Collecting tqdm (from kagglehub)\n",
            "  Downloading tqdm-4.66.5-py3-none-any.whl.metadata (57 kB)\n",
            "Requirement already satisfied: charset-normalizer<4,>=2 in c:\\users\\guilh\\appdata\\local\\programs\\python\\python312\\lib\\site-packages (from requests->kagglehub) (3.3.2)\n",
            "Requirement already satisfied: idna<4,>=2.5 in c:\\users\\guilh\\appdata\\local\\programs\\python\\python312\\lib\\site-packages (from requests->kagglehub) (3.7)\n",
            "Requirement already satisfied: urllib3<3,>=1.21.1 in c:\\users\\guilh\\appdata\\local\\programs\\python\\python312\\lib\\site-packages (from requests->kagglehub) (2.2.1)\n",
            "Requirement already satisfied: certifi>=2017.4.17 in c:\\users\\guilh\\appdata\\local\\programs\\python\\python312\\lib\\site-packages (from requests->kagglehub) (2024.2.2)\n",
            "Requirement already satisfied: colorama in c:\\users\\guilh\\appdata\\local\\programs\\python\\python312\\lib\\site-packages (from tqdm->kagglehub) (0.4.6)\n",
            "Downloading kagglehub-0.3.3-py3-none-any.whl (42 kB)\n",
            "Downloading tqdm-4.66.5-py3-none-any.whl (78 kB)\n",
            "Installing collected packages: tqdm, kagglehub\n",
            "Successfully installed kagglehub-0.3.3 tqdm-4.66.5\n",
            "Note: you may need to restart the kernel to use updated packages.\n"
          ]
        }
      ],
      "source": [
        "%pip install kagglehub"
      ]
    },
    {
      "cell_type": "code",
      "execution_count": null,
      "metadata": {
        "id": "cjPamzxwEOOw",
        "outputId": "8a470e86-c07f-4d0a-944c-c25643b73662"
      },
      "outputs": [
        {
          "name": "stderr",
          "output_type": "stream",
          "text": [
            "c:\\Users\\guilh\\AppData\\Local\\Programs\\Python\\Python312\\Lib\\site-packages\\tqdm\\auto.py:21: TqdmWarning: IProgress not found. Please update jupyter and ipywidgets. See https://ipywidgets.readthedocs.io/en/stable/user_install.html\n",
            "  from .autonotebook import tqdm as notebook_tqdm\n"
          ]
        },
        {
          "name": "stdout",
          "output_type": "stream",
          "text": [
            "Downloading from https://www.kaggle.com/api/v1/datasets/download/abdulszz/spotify-most-streamed-songs?dataset_version_number=2...\n"
          ]
        },
        {
          "name": "stderr",
          "output_type": "stream",
          "text": [
            "100%|██████████| 60.0k/60.0k [00:00<00:00, 480kB/s]"
          ]
        },
        {
          "name": "stdout",
          "output_type": "stream",
          "text": [
            "Extracting files...\n",
            "Path to dataset files: C:\\Users\\guilh\\.cache\\kagglehub\\datasets\\abdulszz\\spotify-most-streamed-songs\\versions\\2\n"
          ]
        },
        {
          "name": "stderr",
          "output_type": "stream",
          "text": [
            "\n"
          ]
        }
      ],
      "source": [
        "import kagglehub\n",
        "\n",
        "# Download latest version\n",
        "path = kagglehub.dataset_download(\"abdulszz/spotify-most-streamed-songs\")\n",
        "\n",
        "print(\"Path to dataset files:\", path)"
      ]
    },
    {
      "cell_type": "code",
      "execution_count": null,
      "metadata": {
        "id": "PdX9Tdp7EOOw"
      },
      "outputs": [],
      "source": [
        " # Iniciar uma Sessão Spark\n",
        "from pyspark.sql import SparkSession\n",
        "\n",
        "spark = SparkSession.builder \\\n",
        "    .appName(\"ExemploPySpark\") \\\n",
        "    .getOrCreate()"
      ]
    },
    {
      "cell_type": "code",
      "execution_count": null,
      "metadata": {
        "id": "vDd4ZX85EOOx"
      },
      "outputs": [],
      "source": [
        "import pandas as pd\n",
        "df_pandas = pd.read_csv(\"Spotify Most Streamed Songs.csv\")\n"
      ]
    },
    {
      "cell_type": "code",
      "execution_count": null,
      "metadata": {
        "id": "ynJVj3PGEOOx",
        "outputId": "ade355de-b621-4f7f-d1ae-5c5d8b73ff85"
      },
      "outputs": [
        {
          "data": {
            "text/html": [
              "<div>\n",
              "<style scoped>\n",
              "    .dataframe tbody tr th:only-of-type {\n",
              "        vertical-align: middle;\n",
              "    }\n",
              "\n",
              "    .dataframe tbody tr th {\n",
              "        vertical-align: top;\n",
              "    }\n",
              "\n",
              "    .dataframe thead th {\n",
              "        text-align: right;\n",
              "    }\n",
              "</style>\n",
              "<table border=\"1\" class=\"dataframe\">\n",
              "  <thead>\n",
              "    <tr style=\"text-align: right;\">\n",
              "      <th></th>\n",
              "      <th>track_name</th>\n",
              "      <th>artist(s)_name</th>\n",
              "      <th>artist_count</th>\n",
              "      <th>released_year</th>\n",
              "      <th>released_month</th>\n",
              "      <th>released_day</th>\n",
              "      <th>in_spotify_playlists</th>\n",
              "      <th>in_spotify_charts</th>\n",
              "      <th>streams</th>\n",
              "      <th>in_apple_playlists</th>\n",
              "      <th>...</th>\n",
              "      <th>key</th>\n",
              "      <th>mode</th>\n",
              "      <th>danceability_%</th>\n",
              "      <th>valence_%</th>\n",
              "      <th>energy_%</th>\n",
              "      <th>acousticness_%</th>\n",
              "      <th>instrumentalness_%</th>\n",
              "      <th>liveness_%</th>\n",
              "      <th>speechiness_%</th>\n",
              "      <th>cover_url</th>\n",
              "    </tr>\n",
              "  </thead>\n",
              "  <tbody>\n",
              "    <tr>\n",
              "      <th>0</th>\n",
              "      <td>Seven (feat. Latto) (Explicit Ver.)</td>\n",
              "      <td>Latto, Jung Kook</td>\n",
              "      <td>2</td>\n",
              "      <td>2023</td>\n",
              "      <td>7</td>\n",
              "      <td>14</td>\n",
              "      <td>553</td>\n",
              "      <td>147</td>\n",
              "      <td>141381703</td>\n",
              "      <td>43</td>\n",
              "      <td>...</td>\n",
              "      <td>B</td>\n",
              "      <td>Major</td>\n",
              "      <td>80</td>\n",
              "      <td>89</td>\n",
              "      <td>83</td>\n",
              "      <td>31</td>\n",
              "      <td>0</td>\n",
              "      <td>8</td>\n",
              "      <td>4</td>\n",
              "      <td>Not Found</td>\n",
              "    </tr>\n",
              "    <tr>\n",
              "      <th>1</th>\n",
              "      <td>LALA</td>\n",
              "      <td>Myke Towers</td>\n",
              "      <td>1</td>\n",
              "      <td>2023</td>\n",
              "      <td>3</td>\n",
              "      <td>23</td>\n",
              "      <td>1474</td>\n",
              "      <td>48</td>\n",
              "      <td>133716286</td>\n",
              "      <td>48</td>\n",
              "      <td>...</td>\n",
              "      <td>C#</td>\n",
              "      <td>Major</td>\n",
              "      <td>71</td>\n",
              "      <td>61</td>\n",
              "      <td>74</td>\n",
              "      <td>7</td>\n",
              "      <td>0</td>\n",
              "      <td>10</td>\n",
              "      <td>4</td>\n",
              "      <td>https://i.scdn.co/image/ab67616d0000b2730656d5...</td>\n",
              "    </tr>\n",
              "    <tr>\n",
              "      <th>2</th>\n",
              "      <td>vampire</td>\n",
              "      <td>Olivia Rodrigo</td>\n",
              "      <td>1</td>\n",
              "      <td>2023</td>\n",
              "      <td>6</td>\n",
              "      <td>30</td>\n",
              "      <td>1397</td>\n",
              "      <td>113</td>\n",
              "      <td>140003974</td>\n",
              "      <td>94</td>\n",
              "      <td>...</td>\n",
              "      <td>F</td>\n",
              "      <td>Major</td>\n",
              "      <td>51</td>\n",
              "      <td>32</td>\n",
              "      <td>53</td>\n",
              "      <td>17</td>\n",
              "      <td>0</td>\n",
              "      <td>31</td>\n",
              "      <td>6</td>\n",
              "      <td>https://i.scdn.co/image/ab67616d0000b273e85259...</td>\n",
              "    </tr>\n",
              "    <tr>\n",
              "      <th>3</th>\n",
              "      <td>Cruel Summer</td>\n",
              "      <td>Taylor Swift</td>\n",
              "      <td>1</td>\n",
              "      <td>2019</td>\n",
              "      <td>8</td>\n",
              "      <td>23</td>\n",
              "      <td>7858</td>\n",
              "      <td>100</td>\n",
              "      <td>800840817</td>\n",
              "      <td>116</td>\n",
              "      <td>...</td>\n",
              "      <td>A</td>\n",
              "      <td>Major</td>\n",
              "      <td>55</td>\n",
              "      <td>58</td>\n",
              "      <td>72</td>\n",
              "      <td>11</td>\n",
              "      <td>0</td>\n",
              "      <td>11</td>\n",
              "      <td>15</td>\n",
              "      <td>https://i.scdn.co/image/ab67616d0000b273e787cf...</td>\n",
              "    </tr>\n",
              "  </tbody>\n",
              "</table>\n",
              "<p>4 rows × 25 columns</p>\n",
              "</div>"
            ],
            "text/plain": [
              "                            track_name    artist(s)_name  artist_count  \\\n",
              "0  Seven (feat. Latto) (Explicit Ver.)  Latto, Jung Kook             2   \n",
              "1                                 LALA       Myke Towers             1   \n",
              "2                              vampire    Olivia Rodrigo             1   \n",
              "3                         Cruel Summer      Taylor Swift             1   \n",
              "\n",
              "   released_year  released_month  released_day  in_spotify_playlists  \\\n",
              "0           2023               7            14                   553   \n",
              "1           2023               3            23                  1474   \n",
              "2           2023               6            30                  1397   \n",
              "3           2019               8            23                  7858   \n",
              "\n",
              "   in_spotify_charts    streams  in_apple_playlists  ...  key   mode  \\\n",
              "0                147  141381703                  43  ...    B  Major   \n",
              "1                 48  133716286                  48  ...   C#  Major   \n",
              "2                113  140003974                  94  ...    F  Major   \n",
              "3                100  800840817                 116  ...    A  Major   \n",
              "\n",
              "   danceability_% valence_%  energy_% acousticness_% instrumentalness_%  \\\n",
              "0              80        89        83             31                  0   \n",
              "1              71        61        74              7                  0   \n",
              "2              51        32        53             17                  0   \n",
              "3              55        58        72             11                  0   \n",
              "\n",
              "   liveness_%  speechiness_%  \\\n",
              "0           8              4   \n",
              "1          10              4   \n",
              "2          31              6   \n",
              "3          11             15   \n",
              "\n",
              "                                           cover_url  \n",
              "0                                          Not Found  \n",
              "1  https://i.scdn.co/image/ab67616d0000b2730656d5...  \n",
              "2  https://i.scdn.co/image/ab67616d0000b273e85259...  \n",
              "3  https://i.scdn.co/image/ab67616d0000b273e787cf...  \n",
              "\n",
              "[4 rows x 25 columns]"
            ]
          },
          "execution_count": 22,
          "metadata": {},
          "output_type": "execute_result"
        }
      ],
      "source": [
        "df_pandas.head(4)"
      ]
    },
    {
      "cell_type": "code",
      "execution_count": null,
      "metadata": {
        "id": "ZN6ucp5iEOOx"
      },
      "outputs": [],
      "source": [
        "from pyspark.sql import SparkSession\n",
        "\n",
        "spark = SparkSession.builder.appName(\"ExemploLeitura\").getOrCreate()\n",
        "\n",
        "# Leitura de um arquivo CSV\"\n",
        "df_pyspark = spark.read.csv(\"Spotify Most Streamed Songs.csv\", header=True, inferSchema=True)"
      ]
    },
    {
      "cell_type": "code",
      "execution_count": null,
      "metadata": {
        "id": "LWDE0f1vEOOx",
        "outputId": "21d11919-3b3d-4059-bdcc-dc631b0ef075"
      },
      "outputs": [
        {
          "name": "stdout",
          "output_type": "stream",
          "text": [
            "track_name\n",
            "artist(s)_name\n",
            "artist_count\n",
            "released_year\n",
            "released_month\n",
            "released_day\n",
            "in_spotify_playlists\n",
            "in_spotify_charts\n",
            "streams\n",
            "in_apple_playlists\n",
            "in_apple_charts\n",
            "in_deezer_playlists\n",
            "in_deezer_charts\n",
            "in_shazam_charts\n",
            "bpm\n",
            "key\n",
            "mode\n",
            "danceability_%\n",
            "valence_%\n",
            "energy_%\n",
            "acousticness_%\n",
            "instrumentalness_%\n",
            "liveness_%\n",
            "speechiness_%\n",
            "cover_url\n"
          ]
        }
      ],
      "source": [
        " #Nomes das colunas\n",
        "for i in df_pandas.columns:\n",
        "  print(i)"
      ]
    },
    {
      "cell_type": "code",
      "execution_count": null,
      "metadata": {
        "id": "cNS4SnJfEOOx"
      },
      "outputs": [],
      "source": [
        "# Seleciona colunas específicas - Pandas\n",
        "df_selecionado_pandas = df_pandas[['artist_count', 'released_year', 'streams']]"
      ]
    },
    {
      "cell_type": "code",
      "execution_count": null,
      "metadata": {
        "id": "IitLa8TJEOOy"
      },
      "outputs": [],
      "source": [
        "# Seleciona colunas específicas - PySpark\n",
        "df_selecionado_spark = df_pyspark.select('artist_count', 'released_year', 'streams')"
      ]
    },
    {
      "cell_type": "code",
      "execution_count": null,
      "metadata": {
        "id": "lqfmlYLGEOOy"
      },
      "outputs": [],
      "source": [
        "df_filtrado_pandas = df_pandas[df_pandas['artist_count'] > 2]\n"
      ]
    },
    {
      "cell_type": "code",
      "execution_count": null,
      "metadata": {
        "id": "ETA4A5wBEOOy"
      },
      "outputs": [],
      "source": [
        "df_filtrado_spark = df_pyspark.filter(df_pyspark.artist_count > 2)"
      ]
    },
    {
      "cell_type": "code",
      "execution_count": null,
      "metadata": {
        "id": "UVzx5rWgEOOy"
      },
      "outputs": [],
      "source": [
        "df_agregado_pandas = df_pandas.groupby('artist(s)_name')['artist_count'].mean().reset_index()"
      ]
    },
    {
      "cell_type": "code",
      "execution_count": null,
      "metadata": {
        "id": "LWxKrAgDEOOy"
      },
      "outputs": [],
      "source": [
        "# Calcula a média de coluna1 agrupada por coluna2 - PySpark\n",
        "from pyspark.sql.functions import avg\n",
        "\n",
        "# Calcula a média de coluna1 agrupada por coluna2\n",
        "df_agregado_spark = df_pyspark.groupBy(\"in_spotify_playlists\").agg(avg(\"streams\").alias(\"media_streams\"))"
      ]
    },
    {
      "cell_type": "code",
      "execution_count": null,
      "metadata": {
        "id": "ql-A9gd7EOOy",
        "outputId": "37a5e161-cf14-48d0-8e8a-3abdea28079b"
      },
      "outputs": [
        {
          "name": "stdout",
          "output_type": "stream",
          "text": [
            "+------------+-------------+---------+\n",
            "|artist_count|released_year|  streams|\n",
            "+------------+-------------+---------+\n",
            "|           2|         2023|141381703|\n",
            "|           1|         2023|133716286|\n",
            "|           1|         2023|140003974|\n",
            "|           1|         2019|800840817|\n",
            "|           1|         2023|303236322|\n",
            "+------------+-------------+---------+\n",
            "only showing top 5 rows\n",
            "\n",
            "+--------------------+--------------------+------------+-------------+--------------+------------+--------------------+-----------------+----------+------------------+---------------+-------------------+----------------+----------------+---+----+-----+--------------+---------+--------+--------------+------------------+----------+-------------+--------------------+\n",
            "|          track_name|      artist(s)_name|artist_count|released_year|released_month|released_day|in_spotify_playlists|in_spotify_charts|   streams|in_apple_playlists|in_apple_charts|in_deezer_playlists|in_deezer_charts|in_shazam_charts|bpm| key| mode|danceability_%|valence_%|energy_%|acousticness_%|instrumentalness_%|liveness_%|speechiness_%|           cover_url|\n",
            "+--------------------+--------------------+------------+-------------+--------------+------------+--------------------+-----------------+----------+------------------+---------------+-------------------+----------------+----------------+---+----+-----+--------------+---------+--------+--------------+------------------+----------+-------------+--------------------+\n",
            "|           LADY GAGA|Gabito Ballestero...|           3|         2023|             6|          22|                 332|               26|  86444842|                11|            163|                 10|               4|               0|140|   F|Minor|            65|       87|      74|            22|                 0|        42|            4|           Not Found|\n",
            "|Popular (with Pla...|The Weeknd, Madon...|           3|         2023|             6|           2|                1945|               87| 115364561|                74|            182|                 87|              14|           1,093| 99|  C#|Major|            85|       83|      68|             7|                 0|        36|           20|https://i.scdn.co...|\n",
            "|            Creepin'|The Weeknd, 21 Sa...|           3|         2022|            12|           2|                6036|               88| 843957510|               113|            149|                245|              23|              27| 98|  C#|Minor|            71|       17|      61|            36|                 0|         8|            5|https://i.scdn.co...|\n",
            "|     Los del Espacio|Big One, Duki, Li...|           8|         2023|             6|           1|                1150|               31| 123122413|                22|             33|                 34|               7|             184|120|NULL|Major|            81|       63|      68|            11|                 0|        11|            4|           Not Found|\n",
            "|       See You Again|Tyler, The Creato...|           3|         2017|             7|          21|               13387|               64|1047101291|                77|             58|                247|               1|             311| 79|  F#|Major|            56|       58|      56|            37|                 0|        11|           10|https://i.scdn.co...|\n",
            "+--------------------+--------------------+------------+-------------+--------------+------------+--------------------+-----------------+----------+------------------+---------------+-------------------+----------------+----------------+---+----+-----+--------------+---------+--------+--------------+------------------+----------+-------------+--------------------+\n",
            "only showing top 5 rows\n",
            "\n",
            "+--------------------+-------------+\n",
            "|in_spotify_playlists|media_streams|\n",
            "+--------------------+-------------+\n",
            "|                 148|  3.9578178E7|\n",
            "|               41751|1.205951614E9|\n",
            "|                3794| 5.38115192E8|\n",
            "|                1959|4.108192395E8|\n",
            "|                1507| 4.11747614E8|\n",
            "+--------------------+-------------+\n",
            "only showing top 5 rows\n",
            "\n"
          ]
        }
      ],
      "source": [
        "df_selecionado_spark.show(5)\n",
        "df_filtrado_spark.show(5)\n",
        "df_agregado_spark.show(5)"
      ]
    },
    {
      "cell_type": "code",
      "execution_count": null,
      "metadata": {
        "id": "2efVIK3YEOOy"
      },
      "outputs": [],
      "source": [
        "# Junção de dois DataFrames pandas\n",
        "df1 = pd.read_csv(\"Companies_ranked_by_Dividend_Yield.csv\")\n",
        "df2 = pd.read_csv(\"Companies_ranked_by_Earnings.csv\")\n",
        "df_juncao = pd.merge(df1, df2, on=\"Rank\", how=\"left\", suffixes=('_dividend', '_earnings'))\n"
      ]
    },
    {
      "cell_type": "code",
      "execution_count": null,
      "metadata": {
        "id": "Edbuz6TFEOOz"
      },
      "outputs": [],
      "source": [
        "# Junção de dois DataFrames PySpark\n",
        "df1 = spark.read.csv(\"Companies_ranked_by_Dividend_Yield.csv\", header=True, inferSchema=True)\n",
        "df2 = spark.read.csv(\"Companies_ranked_by_Earnings.csv\", header=True, inferSchema=True)\n",
        "df_juncao = df1.join(df2, on=\"Rank\", how=\"left\")"
      ]
    }
  ],
  "metadata": {
    "kernelspec": {
      "display_name": "Python 3",
      "language": "python",
      "name": "python3"
    },
    "language_info": {
      "codemirror_mode": {
        "name": "ipython",
        "version": 3
      },
      "file_extension": ".py",
      "mimetype": "text/x-python",
      "name": "python",
      "nbconvert_exporter": "python",
      "pygments_lexer": "ipython3",
      "version": "3.12.3"
    },
    "colab": {
      "provenance": [],
      "include_colab_link": true
    }
  },
  "nbformat": 4,
  "nbformat_minor": 0
}