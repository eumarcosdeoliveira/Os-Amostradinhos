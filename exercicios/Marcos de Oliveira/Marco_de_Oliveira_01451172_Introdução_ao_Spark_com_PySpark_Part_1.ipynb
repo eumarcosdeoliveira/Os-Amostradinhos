{
  "nbformat": 4,
  "nbformat_minor": 0,
  "metadata": {
    "colab": {
      "provenance": []
    },
    "kernelspec": {
      "name": "python3",
      "display_name": "Python 3"
    },
    "language_info": {
      "name": "python"
    }
  },
  "cells": [
    {
      "cell_type": "markdown",
      "source": [
        "\n",
        "#Introdução ao Apache Spark\n",
        "\n",
        "Apache Spark é um framework de processamento de dados de código aberto projetado para ser rápido, fácil de usar e geral. Ele permite o processamento distribuído de grandes volumes de dados em clusters, suportando tarefas de processamento em lote e em tempo real. Spark é amplamente utilizado para análise de dados, aprendizado de máquina, processamento de streaming e muito mais.\n"
      ],
      "metadata": {
        "id": "k46CQak6-yWG"
      }
    },
    {
      "cell_type": "markdown",
      "source": [
        "#### História e Marcos do Apache Spark\n",
        "*  2009: Desenvolvido originalmente na UC Berkeley’s AMPLab.\n",
        "*  2010: Spark foi open-sourced.\n",
        "*  2014: Tornou-se um projeto de alto nível da Apache Software Foundation.\n",
        "*  2016: Spark 2.0 lançado, introduzindo DataFrames e Spark SQL.\n",
        "*  2020: Spark 3.0 lançado, trazendo melhorias significativas em desempenho e novas APIs.\n",
        "*  2024: Spark continua evoluindo, com foco em otimizações de desempenho e integração com tecnologias emergentes."
      ],
      "metadata": {
        "id": "MeFL6KxK_B7B"
      }
    },
    {
      "cell_type": "markdown",
      "source": [
        "#Fundamentos do Apache Spark\n",
        "#### RDDs (Resilient Distributed Datasets)\n",
        "\n",
        "RDDs são a abstração fundamental no Spark, representando uma coleção distribuída de elementos que podem ser processados em paralelo. Eles são imutáveis e tolerantes a falhas.\n",
        "\n",
        "##### Características:\n",
        "\n",
        "* Imutabilidade: Uma vez criado, um RDD não pode ser alterado.\n",
        "* Tolerância a falhas: Spark reconstrói automaticamente partes perdidas dos RDDs.\n",
        "* Transformações e Ações: Operações que transformam os dados ou coletam resultados.\n",
        "\n",
        "#### RDDs (Resilient Distributed Datasets)\n",
        "\n",
        "#### **DataFrames**\n",
        "\n",
        "DataFrames são uma abstração mais estruturada sobre RDDs, semelhantes a tabelas em bancos de dados relacionais. Eles permitem operações otimizadas e integração com Spark SQL.\n",
        "\n",
        "**Vantagens:**\n",
        "\n",
        "* Performance: Otimizações como o Catalyst Optimizer melhoram o desempenho.\n",
        "* Facilidade de Uso: APIs mais amigáveis para manipulação de dados estruturados.\n",
        "* Integração: Compatível com diversas fontes de dados e ferramentas de BI.\n",
        "\n",
        "\n",
        "** Datasets Utilizados **\n",
        "\n",
        "https://www.kaggle.com/datasets/shubhambathwal/flight-price-prediction"
      ],
      "metadata": {
        "id": "gXA3ECk3AIsw"
      }
    },
    {
      "cell_type": "code",
      "execution_count": null,
      "metadata": {
        "colab": {
          "base_uri": "https://localhost:8080/"
        },
        "id": "fPIwCUX0-D8a",
        "outputId": "12edc29b-ab37-4dbc-d895-0063ee464ba5"
      },
      "outputs": [
        {
          "output_type": "stream",
          "name": "stdout",
          "text": [
            "Requirement already satisfied: pyspark in /usr/local/lib/python3.10/dist-packages (3.5.3)\n",
            "Requirement already satisfied: py4j==0.10.9.7 in /usr/local/lib/python3.10/dist-packages (from pyspark) (0.10.9.7)\n"
          ]
        }
      ],
      "source": [
        "# Instalar PySpark via pip\n",
        "!pip install pyspark"
      ]
    },
    {
      "cell_type": "code",
      "source": [
        "import kagglehub\n",
        "\n",
        "# Download latest version\n",
        "path = kagglehub.dataset_download(\"saeedsarrafzadeh/notable-ai-models-2024\")\n",
        "\n",
        "print(\"Path to dataset files:\", path)\n",
        "\n",
        "path_lol = kagglehub.dataset_download(\"derrickdaniel/klebsiella-meropenem-amr-genomic-data\")\n",
        "\n",
        "print(\"Path to dataset files:\", path_lol)"
      ],
      "metadata": {
        "colab": {
          "base_uri": "https://localhost:8080/"
        },
        "id": "BxhhcwsfscYT",
        "outputId": "b3c51070-d270-464b-8574-2d08f517dc96"
      },
      "execution_count": 21,
      "outputs": [
        {
          "output_type": "stream",
          "name": "stdout",
          "text": [
            "Warning: Looks like you're using an outdated `kagglehub` version, please consider updating (latest version: 0.3.3)\n",
            "Downloading from https://www.kaggle.com/api/v1/datasets/download/saeedsarrafzadeh/notable-ai-models-2024?dataset_version_number=1...\n"
          ]
        },
        {
          "output_type": "stream",
          "name": "stderr",
          "text": [
            "100%|██████████| 520k/520k [00:00<00:00, 53.2MB/s]"
          ]
        },
        {
          "output_type": "stream",
          "name": "stdout",
          "text": [
            "Extracting files...\n",
            "Path to dataset files: /root/.cache/kagglehub/datasets/saeedsarrafzadeh/notable-ai-models-2024/versions/1\n"
          ]
        },
        {
          "output_type": "stream",
          "name": "stderr",
          "text": [
            "\n"
          ]
        },
        {
          "output_type": "stream",
          "name": "stdout",
          "text": [
            "Warning: Looks like you're using an outdated `kagglehub` version, please consider updating (latest version: 0.3.3)\n",
            "Downloading from https://www.kaggle.com/api/v1/datasets/download/derrickdaniel/klebsiella-meropenem-amr-genomic-data?dataset_version_number=1...\n"
          ]
        },
        {
          "output_type": "stream",
          "name": "stderr",
          "text": [
            "100%|██████████| 150k/150k [00:00<00:00, 47.5MB/s]"
          ]
        },
        {
          "output_type": "stream",
          "name": "stdout",
          "text": [
            "Extracting files...\n",
            "Path to dataset files: /root/.cache/kagglehub/datasets/derrickdaniel/klebsiella-meropenem-amr-genomic-data/versions/1\n"
          ]
        },
        {
          "output_type": "stream",
          "name": "stderr",
          "text": [
            "\n"
          ]
        }
      ]
    },
    {
      "cell_type": "code",
      "source": [
        "# Iniciar uma Sessão Spark\n",
        "from pyspark.sql import SparkSession\n",
        "\n",
        "spark = SparkSession.builder \\\n",
        "    .appName(\"ExemploPySpark\") \\\n",
        "    .getOrCreate()"
      ],
      "metadata": {
        "id": "ZKDUH38tSMgE"
      },
      "execution_count": null,
      "outputs": []
    },
    {
      "cell_type": "markdown",
      "source": [
        "**Comparando métodos do pandas x métodos do PySpark**\n",
        "\n",
        "Leitura de Dados:"
      ],
      "metadata": {
        "id": "PbTdKPDVTaDq"
      }
    },
    {
      "cell_type": "code",
      "source": [
        "import pandas as pd\n",
        "df_pandas = pd.read_csv(\"/root/.cache/kagglehub/datasets/saeedsarrafzadeh/notable-ai-models-2024/versions/1/notable_ai_models.csv\")"
      ],
      "metadata": {
        "id": "1SR12OBgSX_w"
      },
      "execution_count": 27,
      "outputs": []
    },
    {
      "cell_type": "code",
      "source": [
        "df_pandas.head(4)"
      ],
      "metadata": {
        "colab": {
          "base_uri": "https://localhost:8080/",
          "height": 641
        },
        "id": "7vYjahCwsvh3",
        "outputId": "ffd6aad1-289a-4e25-8ae9-ea39cfd06e0a"
      },
      "execution_count": 28,
      "outputs": [
        {
          "output_type": "execute_result",
          "data": {
            "text/plain": [
              "               System    Domain     Organization Organization categorization  \\\n",
              "0         Qwen2.5-72B  Language          Alibaba                    Industry   \n",
              "1  Table Tennis Agent  Robotics  Google DeepMind                    Industry   \n",
              "2          AFM-server  Language            Apple                    Industry   \n",
              "3       AFM-on-device  Language            Apple                    Industry   \n",
              "\n",
              "  Country (from Organization)  \\\n",
              "0                       China   \n",
              "1               Multinational   \n",
              "2    United States of America   \n",
              "3    United States of America   \n",
              "\n",
              "                                             Authors Publication date  \\\n",
              "0                                                NaN       2024-09-19   \n",
              "1  David B. D'Ambrosio, Saminda Abeyruwan, Laura ...       2024-08-07   \n",
              "2  Andy Narayanan, Aonan Zhang, Bowen Zhang, Chen...       2024-07-29   \n",
              "3  Andy Narayanan, Aonan Zhang, Bowen Zhang, Chen...       2024-07-29   \n",
              "\n",
              "                                           Reference  \\\n",
              "0             Qwen2.5: A Party of Foundation Models!   \n",
              "1  Achieving Human Level Competitive Robot Table ...   \n",
              "2      Apple Intelligence Foundation Language Models   \n",
              "3      Apple Intelligence Foundation Language Models   \n",
              "\n",
              "                                                Link  Citations  ...  \\\n",
              "0             https://qwenlm.github.io/blog/qwen2.5/        NaN  ...   \n",
              "1  https://deepmind.google/research/publications/...        NaN  ...   \n",
              "2  https://machinelearning.apple.com/research/app...        NaN  ...   \n",
              "3  https://machinelearning.apple.com/research/app...        NaN  ...   \n",
              "\n",
              "  Confidence                                           Abstract  \\\n",
              "0  Confident  In the past three months since Qwen2’s release...   \n",
              "1     Likely  Achieving human-level speed and performance on...   \n",
              "2  Confident                                                NaN   \n",
              "3  Confident  We present foundation language models develope...   \n",
              "\n",
              "          Model accessibility Base model  Finetune compute (FLOP)  \\\n",
              "0  Open access (unrestricted)        NaN                      NaN   \n",
              "1                  Unreleased        NaN                      NaN   \n",
              "2      Hosted access (no API)        NaN                      NaN   \n",
              "3      Hosted access (no API)        NaN                      NaN   \n",
              "\n",
              "  Finetune compute notes    Batch size  \\\n",
              "0                    NaN           NaN   \n",
              "1                    NaN           NaN   \n",
              "2                    NaN  1.894975e+07   \n",
              "3                    NaN  1.894975e+07   \n",
              "\n",
              "                                    Batch size notes  Frontier model  \\\n",
              "0                                                NaN             NaN   \n",
              "1                                                NaN             NaN   \n",
              "2  Main pretraining uses sequence length of 4096 ...             NaN   \n",
              "3  Main pretraining uses sequence length of 4096 ...             NaN   \n",
              "\n",
              "  Training power draw (W)  \n",
              "0                     NaN  \n",
              "1                     NaN  \n",
              "2            3.466814e+06  \n",
              "3                     NaN  \n",
              "\n",
              "[4 rows x 38 columns]"
            ],
            "text/html": [
              "\n",
              "  <div id=\"df-aeea0cdd-3385-44f6-afcd-4671e2ad301a\" class=\"colab-df-container\">\n",
              "    <div>\n",
              "<style scoped>\n",
              "    .dataframe tbody tr th:only-of-type {\n",
              "        vertical-align: middle;\n",
              "    }\n",
              "\n",
              "    .dataframe tbody tr th {\n",
              "        vertical-align: top;\n",
              "    }\n",
              "\n",
              "    .dataframe thead th {\n",
              "        text-align: right;\n",
              "    }\n",
              "</style>\n",
              "<table border=\"1\" class=\"dataframe\">\n",
              "  <thead>\n",
              "    <tr style=\"text-align: right;\">\n",
              "      <th></th>\n",
              "      <th>System</th>\n",
              "      <th>Domain</th>\n",
              "      <th>Organization</th>\n",
              "      <th>Organization categorization</th>\n",
              "      <th>Country (from Organization)</th>\n",
              "      <th>Authors</th>\n",
              "      <th>Publication date</th>\n",
              "      <th>Reference</th>\n",
              "      <th>Link</th>\n",
              "      <th>Citations</th>\n",
              "      <th>...</th>\n",
              "      <th>Confidence</th>\n",
              "      <th>Abstract</th>\n",
              "      <th>Model accessibility</th>\n",
              "      <th>Base model</th>\n",
              "      <th>Finetune compute (FLOP)</th>\n",
              "      <th>Finetune compute notes</th>\n",
              "      <th>Batch size</th>\n",
              "      <th>Batch size notes</th>\n",
              "      <th>Frontier model</th>\n",
              "      <th>Training power draw (W)</th>\n",
              "    </tr>\n",
              "  </thead>\n",
              "  <tbody>\n",
              "    <tr>\n",
              "      <th>0</th>\n",
              "      <td>Qwen2.5-72B</td>\n",
              "      <td>Language</td>\n",
              "      <td>Alibaba</td>\n",
              "      <td>Industry</td>\n",
              "      <td>China</td>\n",
              "      <td>NaN</td>\n",
              "      <td>2024-09-19</td>\n",
              "      <td>Qwen2.5: A Party of Foundation Models!</td>\n",
              "      <td>https://qwenlm.github.io/blog/qwen2.5/</td>\n",
              "      <td>NaN</td>\n",
              "      <td>...</td>\n",
              "      <td>Confident</td>\n",
              "      <td>In the past three months since Qwen2’s release...</td>\n",
              "      <td>Open access (unrestricted)</td>\n",
              "      <td>NaN</td>\n",
              "      <td>NaN</td>\n",
              "      <td>NaN</td>\n",
              "      <td>NaN</td>\n",
              "      <td>NaN</td>\n",
              "      <td>NaN</td>\n",
              "      <td>NaN</td>\n",
              "    </tr>\n",
              "    <tr>\n",
              "      <th>1</th>\n",
              "      <td>Table Tennis Agent</td>\n",
              "      <td>Robotics</td>\n",
              "      <td>Google DeepMind</td>\n",
              "      <td>Industry</td>\n",
              "      <td>Multinational</td>\n",
              "      <td>David B. D'Ambrosio, Saminda Abeyruwan, Laura ...</td>\n",
              "      <td>2024-08-07</td>\n",
              "      <td>Achieving Human Level Competitive Robot Table ...</td>\n",
              "      <td>https://deepmind.google/research/publications/...</td>\n",
              "      <td>NaN</td>\n",
              "      <td>...</td>\n",
              "      <td>Likely</td>\n",
              "      <td>Achieving human-level speed and performance on...</td>\n",
              "      <td>Unreleased</td>\n",
              "      <td>NaN</td>\n",
              "      <td>NaN</td>\n",
              "      <td>NaN</td>\n",
              "      <td>NaN</td>\n",
              "      <td>NaN</td>\n",
              "      <td>NaN</td>\n",
              "      <td>NaN</td>\n",
              "    </tr>\n",
              "    <tr>\n",
              "      <th>2</th>\n",
              "      <td>AFM-server</td>\n",
              "      <td>Language</td>\n",
              "      <td>Apple</td>\n",
              "      <td>Industry</td>\n",
              "      <td>United States of America</td>\n",
              "      <td>Andy Narayanan, Aonan Zhang, Bowen Zhang, Chen...</td>\n",
              "      <td>2024-07-29</td>\n",
              "      <td>Apple Intelligence Foundation Language Models</td>\n",
              "      <td>https://machinelearning.apple.com/research/app...</td>\n",
              "      <td>NaN</td>\n",
              "      <td>...</td>\n",
              "      <td>Confident</td>\n",
              "      <td>NaN</td>\n",
              "      <td>Hosted access (no API)</td>\n",
              "      <td>NaN</td>\n",
              "      <td>NaN</td>\n",
              "      <td>NaN</td>\n",
              "      <td>1.894975e+07</td>\n",
              "      <td>Main pretraining uses sequence length of 4096 ...</td>\n",
              "      <td>NaN</td>\n",
              "      <td>3.466814e+06</td>\n",
              "    </tr>\n",
              "    <tr>\n",
              "      <th>3</th>\n",
              "      <td>AFM-on-device</td>\n",
              "      <td>Language</td>\n",
              "      <td>Apple</td>\n",
              "      <td>Industry</td>\n",
              "      <td>United States of America</td>\n",
              "      <td>Andy Narayanan, Aonan Zhang, Bowen Zhang, Chen...</td>\n",
              "      <td>2024-07-29</td>\n",
              "      <td>Apple Intelligence Foundation Language Models</td>\n",
              "      <td>https://machinelearning.apple.com/research/app...</td>\n",
              "      <td>NaN</td>\n",
              "      <td>...</td>\n",
              "      <td>Confident</td>\n",
              "      <td>We present foundation language models develope...</td>\n",
              "      <td>Hosted access (no API)</td>\n",
              "      <td>NaN</td>\n",
              "      <td>NaN</td>\n",
              "      <td>NaN</td>\n",
              "      <td>1.894975e+07</td>\n",
              "      <td>Main pretraining uses sequence length of 4096 ...</td>\n",
              "      <td>NaN</td>\n",
              "      <td>NaN</td>\n",
              "    </tr>\n",
              "  </tbody>\n",
              "</table>\n",
              "<p>4 rows × 38 columns</p>\n",
              "</div>\n",
              "    <div class=\"colab-df-buttons\">\n",
              "\n",
              "  <div class=\"colab-df-container\">\n",
              "    <button class=\"colab-df-convert\" onclick=\"convertToInteractive('df-aeea0cdd-3385-44f6-afcd-4671e2ad301a')\"\n",
              "            title=\"Convert this dataframe to an interactive table.\"\n",
              "            style=\"display:none;\">\n",
              "\n",
              "  <svg xmlns=\"http://www.w3.org/2000/svg\" height=\"24px\" viewBox=\"0 -960 960 960\">\n",
              "    <path d=\"M120-120v-720h720v720H120Zm60-500h600v-160H180v160Zm220 220h160v-160H400v160Zm0 220h160v-160H400v160ZM180-400h160v-160H180v160Zm440 0h160v-160H620v160ZM180-180h160v-160H180v160Zm440 0h160v-160H620v160Z\"/>\n",
              "  </svg>\n",
              "    </button>\n",
              "\n",
              "  <style>\n",
              "    .colab-df-container {\n",
              "      display:flex;\n",
              "      gap: 12px;\n",
              "    }\n",
              "\n",
              "    .colab-df-convert {\n",
              "      background-color: #E8F0FE;\n",
              "      border: none;\n",
              "      border-radius: 50%;\n",
              "      cursor: pointer;\n",
              "      display: none;\n",
              "      fill: #1967D2;\n",
              "      height: 32px;\n",
              "      padding: 0 0 0 0;\n",
              "      width: 32px;\n",
              "    }\n",
              "\n",
              "    .colab-df-convert:hover {\n",
              "      background-color: #E2EBFA;\n",
              "      box-shadow: 0px 1px 2px rgba(60, 64, 67, 0.3), 0px 1px 3px 1px rgba(60, 64, 67, 0.15);\n",
              "      fill: #174EA6;\n",
              "    }\n",
              "\n",
              "    .colab-df-buttons div {\n",
              "      margin-bottom: 4px;\n",
              "    }\n",
              "\n",
              "    [theme=dark] .colab-df-convert {\n",
              "      background-color: #3B4455;\n",
              "      fill: #D2E3FC;\n",
              "    }\n",
              "\n",
              "    [theme=dark] .colab-df-convert:hover {\n",
              "      background-color: #434B5C;\n",
              "      box-shadow: 0px 1px 3px 1px rgba(0, 0, 0, 0.15);\n",
              "      filter: drop-shadow(0px 1px 2px rgba(0, 0, 0, 0.3));\n",
              "      fill: #FFFFFF;\n",
              "    }\n",
              "  </style>\n",
              "\n",
              "    <script>\n",
              "      const buttonEl =\n",
              "        document.querySelector('#df-aeea0cdd-3385-44f6-afcd-4671e2ad301a button.colab-df-convert');\n",
              "      buttonEl.style.display =\n",
              "        google.colab.kernel.accessAllowed ? 'block' : 'none';\n",
              "\n",
              "      async function convertToInteractive(key) {\n",
              "        const element = document.querySelector('#df-aeea0cdd-3385-44f6-afcd-4671e2ad301a');\n",
              "        const dataTable =\n",
              "          await google.colab.kernel.invokeFunction('convertToInteractive',\n",
              "                                                    [key], {});\n",
              "        if (!dataTable) return;\n",
              "\n",
              "        const docLinkHtml = 'Like what you see? Visit the ' +\n",
              "          '<a target=\"_blank\" href=https://colab.research.google.com/notebooks/data_table.ipynb>data table notebook</a>'\n",
              "          + ' to learn more about interactive tables.';\n",
              "        element.innerHTML = '';\n",
              "        dataTable['output_type'] = 'display_data';\n",
              "        await google.colab.output.renderOutput(dataTable, element);\n",
              "        const docLink = document.createElement('div');\n",
              "        docLink.innerHTML = docLinkHtml;\n",
              "        element.appendChild(docLink);\n",
              "      }\n",
              "    </script>\n",
              "  </div>\n",
              "\n",
              "\n",
              "<div id=\"df-82239a29-1296-483b-977e-28b5cf5b6549\">\n",
              "  <button class=\"colab-df-quickchart\" onclick=\"quickchart('df-82239a29-1296-483b-977e-28b5cf5b6549')\"\n",
              "            title=\"Suggest charts\"\n",
              "            style=\"display:none;\">\n",
              "\n",
              "<svg xmlns=\"http://www.w3.org/2000/svg\" height=\"24px\"viewBox=\"0 0 24 24\"\n",
              "     width=\"24px\">\n",
              "    <g>\n",
              "        <path d=\"M19 3H5c-1.1 0-2 .9-2 2v14c0 1.1.9 2 2 2h14c1.1 0 2-.9 2-2V5c0-1.1-.9-2-2-2zM9 17H7v-7h2v7zm4 0h-2V7h2v10zm4 0h-2v-4h2v4z\"/>\n",
              "    </g>\n",
              "</svg>\n",
              "  </button>\n",
              "\n",
              "<style>\n",
              "  .colab-df-quickchart {\n",
              "      --bg-color: #E8F0FE;\n",
              "      --fill-color: #1967D2;\n",
              "      --hover-bg-color: #E2EBFA;\n",
              "      --hover-fill-color: #174EA6;\n",
              "      --disabled-fill-color: #AAA;\n",
              "      --disabled-bg-color: #DDD;\n",
              "  }\n",
              "\n",
              "  [theme=dark] .colab-df-quickchart {\n",
              "      --bg-color: #3B4455;\n",
              "      --fill-color: #D2E3FC;\n",
              "      --hover-bg-color: #434B5C;\n",
              "      --hover-fill-color: #FFFFFF;\n",
              "      --disabled-bg-color: #3B4455;\n",
              "      --disabled-fill-color: #666;\n",
              "  }\n",
              "\n",
              "  .colab-df-quickchart {\n",
              "    background-color: var(--bg-color);\n",
              "    border: none;\n",
              "    border-radius: 50%;\n",
              "    cursor: pointer;\n",
              "    display: none;\n",
              "    fill: var(--fill-color);\n",
              "    height: 32px;\n",
              "    padding: 0;\n",
              "    width: 32px;\n",
              "  }\n",
              "\n",
              "  .colab-df-quickchart:hover {\n",
              "    background-color: var(--hover-bg-color);\n",
              "    box-shadow: 0 1px 2px rgba(60, 64, 67, 0.3), 0 1px 3px 1px rgba(60, 64, 67, 0.15);\n",
              "    fill: var(--button-hover-fill-color);\n",
              "  }\n",
              "\n",
              "  .colab-df-quickchart-complete:disabled,\n",
              "  .colab-df-quickchart-complete:disabled:hover {\n",
              "    background-color: var(--disabled-bg-color);\n",
              "    fill: var(--disabled-fill-color);\n",
              "    box-shadow: none;\n",
              "  }\n",
              "\n",
              "  .colab-df-spinner {\n",
              "    border: 2px solid var(--fill-color);\n",
              "    border-color: transparent;\n",
              "    border-bottom-color: var(--fill-color);\n",
              "    animation:\n",
              "      spin 1s steps(1) infinite;\n",
              "  }\n",
              "\n",
              "  @keyframes spin {\n",
              "    0% {\n",
              "      border-color: transparent;\n",
              "      border-bottom-color: var(--fill-color);\n",
              "      border-left-color: var(--fill-color);\n",
              "    }\n",
              "    20% {\n",
              "      border-color: transparent;\n",
              "      border-left-color: var(--fill-color);\n",
              "      border-top-color: var(--fill-color);\n",
              "    }\n",
              "    30% {\n",
              "      border-color: transparent;\n",
              "      border-left-color: var(--fill-color);\n",
              "      border-top-color: var(--fill-color);\n",
              "      border-right-color: var(--fill-color);\n",
              "    }\n",
              "    40% {\n",
              "      border-color: transparent;\n",
              "      border-right-color: var(--fill-color);\n",
              "      border-top-color: var(--fill-color);\n",
              "    }\n",
              "    60% {\n",
              "      border-color: transparent;\n",
              "      border-right-color: var(--fill-color);\n",
              "    }\n",
              "    80% {\n",
              "      border-color: transparent;\n",
              "      border-right-color: var(--fill-color);\n",
              "      border-bottom-color: var(--fill-color);\n",
              "    }\n",
              "    90% {\n",
              "      border-color: transparent;\n",
              "      border-bottom-color: var(--fill-color);\n",
              "    }\n",
              "  }\n",
              "</style>\n",
              "\n",
              "  <script>\n",
              "    async function quickchart(key) {\n",
              "      const quickchartButtonEl =\n",
              "        document.querySelector('#' + key + ' button');\n",
              "      quickchartButtonEl.disabled = true;  // To prevent multiple clicks.\n",
              "      quickchartButtonEl.classList.add('colab-df-spinner');\n",
              "      try {\n",
              "        const charts = await google.colab.kernel.invokeFunction(\n",
              "            'suggestCharts', [key], {});\n",
              "      } catch (error) {\n",
              "        console.error('Error during call to suggestCharts:', error);\n",
              "      }\n",
              "      quickchartButtonEl.classList.remove('colab-df-spinner');\n",
              "      quickchartButtonEl.classList.add('colab-df-quickchart-complete');\n",
              "    }\n",
              "    (() => {\n",
              "      let quickchartButtonEl =\n",
              "        document.querySelector('#df-82239a29-1296-483b-977e-28b5cf5b6549 button');\n",
              "      quickchartButtonEl.style.display =\n",
              "        google.colab.kernel.accessAllowed ? 'block' : 'none';\n",
              "    })();\n",
              "  </script>\n",
              "</div>\n",
              "\n",
              "    </div>\n",
              "  </div>\n"
            ],
            "application/vnd.google.colaboratory.intrinsic+json": {
              "type": "dataframe",
              "variable_name": "df_pandas"
            }
          },
          "metadata": {},
          "execution_count": 28
        }
      ]
    },
    {
      "cell_type": "code",
      "source": [
        "from pyspark.sql import SparkSession\n",
        "\n",
        "spark = SparkSession.builder.appName(\"ExemploLeitura\").getOrCreate()\n",
        "\n",
        "# Leitura de um arquivo CSV\n",
        "df_pyspark = spark.read.csv(\"/root/.cache/kagglehub/datasets/saeedsarrafzadeh/notable-ai-models-2024/versions/1/notable_ai_models.csv\", header=True, inferSchema=True)"
      ],
      "metadata": {
        "id": "KxkLRN6VTweh"
      },
      "execution_count": 29,
      "outputs": []
    },
    {
      "cell_type": "code",
      "source": [
        "#Nomes das colunas\n",
        "for i in df_pandas.columns:\n",
        "  print(i)"
      ],
      "metadata": {
        "colab": {
          "base_uri": "https://localhost:8080/"
        },
        "id": "p2JKtAI0s8AA",
        "outputId": "6fe7b8d2-df3f-48ea-b6fc-00bc231f39af"
      },
      "execution_count": 30,
      "outputs": [
        {
          "output_type": "stream",
          "name": "stdout",
          "text": [
            "System\n",
            "Domain\n",
            "Organization\n",
            "Organization categorization\n",
            "Country (from Organization)\n",
            "Authors\n",
            "Publication date\n",
            "Reference\n",
            "Link\n",
            "Citations\n",
            "Notability criteria\n",
            "Notability criteria notes\n",
            "Parameters\n",
            "Parameters notes\n",
            "Training compute (FLOP)\n",
            "Training compute notes\n",
            "Training dataset\n",
            "Training dataset notes\n",
            "Training dataset size (datapoints)\n",
            "Dataset size notes\n",
            "Epochs\n",
            "Training time (hours)\n",
            "Training time notes\n",
            "Training hardware\n",
            "Hardware quantity\n",
            "Hardware utilization\n",
            "Training compute cost (2023 USD)\n",
            "Compute cost notes\n",
            "Confidence\n",
            "Abstract\n",
            "Model accessibility\n",
            "Base model\n",
            "Finetune compute (FLOP)\n",
            "Finetune compute notes\n",
            "Batch size\n",
            "Batch size notes\n",
            "Frontier model\n",
            "Training power draw (W)\n"
          ]
        }
      ]
    },
    {
      "cell_type": "markdown",
      "source": [
        "Seleção de Colunas:"
      ],
      "metadata": {
        "id": "CyP1qKuVT7Fn"
      }
    },
    {
      "cell_type": "code",
      "source": [
        "# Seleciona colunas específicas - Pandas\n",
        "df_selecionado_pandas = df_pandas[['System', 'Organization','Domain']]"
      ],
      "metadata": {
        "id": "W7G9niUIT3YF"
      },
      "execution_count": 31,
      "outputs": []
    },
    {
      "cell_type": "code",
      "source": [
        "# Seleciona colunas específicas - PySpark\n",
        "df_selecionado_spark = df_pyspark.select('System', 'Organization','Domain')"
      ],
      "metadata": {
        "id": "9_ayFq__ULWC"
      },
      "execution_count": 32,
      "outputs": []
    },
    {
      "cell_type": "markdown",
      "source": [
        "Filtragem de Dados:"
      ],
      "metadata": {
        "id": "DLDFhVdBUy6M"
      }
    },
    {
      "cell_type": "code",
      "source": [
        "df_filtrado_pandas = df_pandas[df_pandas['Training time (hours)'] > 2]\n"
      ],
      "metadata": {
        "id": "NqYRN_ExU1O6"
      },
      "execution_count": 36,
      "outputs": []
    },
    {
      "cell_type": "code",
      "source": [
        "# Filtra linhas onde coluna1 > 50 - PySpark\n",
        "df_filtrado_spark = df_pyspark.filter(df_pyspark['Training time (hours)'] > 2)"
      ],
      "metadata": {
        "id": "Qq_YKeXNWnNn"
      },
      "execution_count": 37,
      "outputs": []
    },
    {
      "cell_type": "markdown",
      "source": [
        "Agregações:"
      ],
      "metadata": {
        "id": "Fvn8Qfs-W0KX"
      }
    },
    {
      "cell_type": "code",
      "source": [
        "df_agregado_pandas = df_pandas.groupby('System')['Training time (hours)'].mean().reset_index()"
      ],
      "metadata": {
        "id": "5QydNn3yWzkK"
      },
      "execution_count": 39,
      "outputs": []
    },
    {
      "cell_type": "code",
      "source": [
        "from pyspark.sql.functions import avg\n",
        "\n",
        "df_agregado_spark = df_pyspark.groupBy(\"System\").agg(avg(\"Training time (hours)\").alias(\"media_training_time\"))\n",
        "\n"
      ],
      "metadata": {
        "id": "OeiAonaAW5Cy"
      },
      "execution_count": 40,
      "outputs": []
    },
    {
      "cell_type": "code",
      "source": [
        "df_selecionado_spark.show(5)\n",
        "df_filtrado_spark.show(5)\n",
        "df_agregado_spark.show(5)"
      ],
      "metadata": {
        "colab": {
          "base_uri": "https://localhost:8080/"
        },
        "id": "tjTgUhdMuBqf",
        "outputId": "9e758f10-07d0-418c-c171-3b5cd2a1047d"
      },
      "execution_count": 41,
      "outputs": [
        {
          "output_type": "stream",
          "name": "stdout",
          "text": [
            "+--------------------+--------------------+--------------------+\n",
            "|              System|        Organization|              Domain|\n",
            "+--------------------+--------------------+--------------------+\n",
            "|         Qwen2.5-72B|             Alibaba|            Language|\n",
            "|6 * 72.7 billion ...|\"\"\"In terms of Qw...|Unspecified unrel...|\n",
            "|  Table Tennis Agent|     Google DeepMind|            Robotics|\n",
            "|\"\"Each policy is ...|                NULL|                NULL|\n",
            "|[22] following th...|                NULL|                NULL|\n",
            "+--------------------+--------------------+--------------------+\n",
            "only showing top 5 rows\n",
            "\n",
            "+--------------------+--------------------+--------------------+---------------------------+---------------------------+--------------------+--------------------+--------------------+--------------------+--------------+--------------------+-------------------------+--------------------+--------------------+-----------------------+----------------------+--------------------+----------------------+----------------------------------+------------------+------+---------------------+--------------------+--------------------+--------------------+--------------------+--------------------------------+--------------------+----------+--------------------+--------------------+--------------------+-----------------------+----------------------+----------+----------------+--------------+-----------------------+\n",
            "|              System|              Domain|        Organization|Organization categorization|Country (from Organization)|             Authors|    Publication date|           Reference|                Link|     Citations| Notability criteria|Notability criteria notes|          Parameters|    Parameters notes|Training compute (FLOP)|Training compute notes|    Training dataset|Training dataset notes|Training dataset size (datapoints)|Dataset size notes|Epochs|Training time (hours)| Training time notes|   Training hardware|   Hardware quantity|Hardware utilization|Training compute cost (2023 USD)|  Compute cost notes|Confidence|            Abstract| Model accessibility|          Base model|Finetune compute (FLOP)|Finetune compute notes|Batch size|Batch size notes|Frontier model|Training power draw (W)|\n",
            "+--------------------+--------------------+--------------------+---------------------------+---------------------------+--------------------+--------------------+--------------------+--------------------+--------------+--------------------+-------------------------+--------------------+--------------------+-----------------------+----------------------+--------------------+----------------------+----------------------------------+------------------+------+---------------------+--------------------+--------------------+--------------------+--------------------+--------------------------------+--------------------+----------+--------------------+--------------------+--------------------+-----------------------+----------------------+----------+----------------+--------------+-----------------------+\n",
            "|19*1024 * 312 tri...|                NULL|\"\"\"NVIDIA models ...|                     German|                    Russian|             Spanish|              French|            Japanese|             Chinese|       Italian| and Dutch) and 3...|                       P3| and NaturalInstr...|     3800000000000.0|                   NULL|                  NULL|               456.0|               19 days|                       NVIDIA A100|            1024.0|0.3473|   214467.02013524104|                NULL|           Confident|Large language mo...|                NULL|                            NULL|                NULL|      NULL|                NULL|                NULL|                NULL|                   NULL|                  NULL|      NULL|            NULL|          NULL|                   NULL|\n",
            "|          FinGPT-13B|            Language|University of Cal...|       Academia,Academia...|       United States of ...|Neng Wang, Hongya...|          2023-10-07|FinGPT: Instructi...|https://arxiv.org...|          26.0|    SOTA improvement|     SOTA for financia...|       13000000000.0|Finetunes using L...|                1.6e+23|      From Llama 2-13B|                NULL|  Financial sentime...|                              NULL|              NULL|  NULL|                17.25|https://github.co...|NVIDIA GeForce RT...|                 1.0|                NULL|                            NULL|\"Finetuning cost ...|    Likely|In the swiftly ex...|Open access (unre...|         Llama 2-13B|           6.532488e+17|  fine-tuned Llama ...|      NULL|            NULL|          NULL|                   NULL|\n",
            "|Note this examine...| since GPT-4 was ...| the vision compo...|        which we believe...|                        2.0|              2280.0|(Speculative) Sem...|NVIDIA A100 SXM4 ...|             25000.0|          0.34|   40586592.57781653|                     NULL|         Speculative|We report the dev...|             API access|                  NULL|                NULL|                  NULL|                              NULL|              NULL|  True|   22146708.683295924|                NULL|                NULL|                NULL|                NULL|                            NULL|                NULL|      NULL|                NULL|                NULL|                NULL|                   NULL|                  NULL|      NULL|            NULL|          NULL|                   NULL|\n",
            "|\",Infiniset,\"LaMD...| and besides the ...|           wikipedia|        a mixture of eng...|        and data from pr...|     1560000000000.0|\"\"\"and are pre-tr...|                NULL|              1385.0|57.7 days * 24|       Google TPU v3|                   1024.0|               0.565|  229949.98625999544|                   NULL|             Confident|We present LaMDA:...|            Unreleased|                              NULL|              NULL|  NULL|             256000.0|\"\"\"All models wer...|                True|  1024572.2817390452|                NULL|                            NULL|                NULL|      NULL|                NULL|                NULL|                NULL|                   NULL|                  NULL|      NULL|            NULL|          NULL|                   NULL|\n",
            "|                  S4|            Language| Stanford University|                   Academia|       United States of ...|Albert Gu, Karan ...|          2021-10-31|Efficiently Model...|https://arxiv.org...|         931.0|    SOTA improvement|     \"\"\"S4 achieves st...| including... SoT...|  249000000.00000003|                   NULL|                 6e+20|                NULL|          WikiText-103|                              NULL|              NULL|  NULL|               509.02|                NULL|                NULL|                NULL|                NULL|                            NULL|                NULL|      NULL|                NULL|A central goal of...|Open access (unre...|                   NULL|                  NULL|      NULL|            NULL|          NULL|                   NULL|\n",
            "+--------------------+--------------------+--------------------+---------------------------+---------------------------+--------------------+--------------------+--------------------+--------------------+--------------+--------------------+-------------------------+--------------------+--------------------+-----------------------+----------------------+--------------------+----------------------+----------------------------------+------------------+------+---------------------+--------------------+--------------------+--------------------+--------------------+--------------------------------+--------------------+----------+--------------------+--------------------+--------------------+-----------------------+----------------------+----------+----------------+--------------+-----------------------+\n",
            "only showing top 5 rows\n",
            "\n",
            "+--------------------+-------------------+\n",
            "|              System|media_training_time|\n",
            "+--------------------+-------------------+\n",
            "|                 ...|               NULL|\n",
            "|                 ~13|               NULL|\n",
            "|to be of similar ...|               NULL|\n",
            "|       Dmodel = 4096|               NULL|\n",
            "|          pipeline\"\"|               NULL|\n",
            "+--------------------+-------------------+\n",
            "only showing top 5 rows\n",
            "\n"
          ]
        }
      ]
    },
    {
      "cell_type": "markdown",
      "source": [
        "Junções (Joins):"
      ],
      "metadata": {
        "id": "gMjrtx18F3gy"
      }
    },
    {
      "cell_type": "code",
      "source": [
        "# Junção de dois DataFrames pandas\n",
        "df1 = pd.read_csv(\"/root/.cache/kagglehub/datasets/saeedsarrafzadeh/notable-ai-models-2024/versions/1/notable_ai_models.csv\")\n",
        "df2 = pd.read_csv(\"/root/.cache/kagglehub/datasets/derrickdaniel/klebsiella-meropenem-amr-genomic-data/versions/1/Klebsiella_Meropenem_AMR_Genomics.csv\")\n",
        "\n",
        "# Convertendo para o tipo string (object) antes da junção\n",
        "df1['Authors'] = df1['Authors'].astype(str)\n",
        "df2['Authors'] = df2['Authors'].astype(str)\n",
        "\n",
        "# Realiza a junção\n",
        "df_juncao = pd.merge(df1, df2, on='Authors')\n"
      ],
      "metadata": {
        "id": "kdBiDsnpF6AM"
      },
      "execution_count": 43,
      "outputs": []
    },
    {
      "cell_type": "code",
      "source": [
        "from pyspark.sql import SparkSession\n",
        "from pyspark.sql.types import StringType\n",
        "\n",
        "spark = SparkSession.builder.appName(\"DataFrameJoin\").getOrCreate()\n",
        "\n",
        "df1 = spark.read.csv(\"/root/.cache/kagglehub/datasets/saeedsarrafzadeh/notable-ai-models-2024/versions/1/notable_ai_models.csv\", header=True, inferSchema=True)\n",
        "df2 = spark.read.csv(\"/root/.cache/kagglehub/datasets/derrickdaniel/klebsiella-meropenem-amr-genomic-data/versions/1/Klebsiella_Meropenem_AMR_Genomics.csv\", header=True, inferSchema=True)\n",
        "\n",
        "df1 = df1.withColumn(\"Authors\", df1[\"Authors\"].cast(StringType()))\n",
        "df2 = df2.withColumn(\"Authors\", df2[\"Authors\"].cast(StringType()))\n",
        "\n",
        "\n",
        "df_juncao = df1.join(df2, on=\"Authors\", how=\"inner\")\n",
        "\n",
        "df_juncao.show()\n"
      ],
      "metadata": {
        "id": "_p6-Ad3MF9PX",
        "colab": {
          "base_uri": "https://localhost:8080/"
        },
        "outputId": "d7ef8d85-7aad-411f-f60a-092167e1eafe"
      },
      "execution_count": 45,
      "outputs": [
        {
          "output_type": "stream",
          "name": "stdout",
          "text": [
            "+-------+------+------+------------+---------------------------+---------------------------+----------------+---------+----+---------+-------------------+-------------------------+----------+----------------+-----------------------+----------------------+----------------+----------------------+----------------------------------+------------------+------+---------------------+-------------------+-----------------+-----------------+--------------------+--------------------------------+------------------+----------+--------+-------------------+----------+-----------------------+----------------------+----------+----------------+--------------+-----------------------+---------+----------+----------+---------+---------+-----------+----------+-----------+-----------+-------------+------------+-----------+-----------+----------+----------+-----------+------------+------------+-----------+----------+----------+-----------+---------+---------+-----+------+------+-------+---------+--------+--------+-------+--------+-------+--------+-------+--------+-----+-----+-----+----+-----+-----+-----+-----+-----+------+-----+-----+-----+--------------------------+--------------------------+--------------------------+----------------------------+--------------------------+-----+------+------+------+------+-----+------+------+------+-----+-----+-----+-----+-------+-------+-------+--------+-------+-------+-------+-------+-----+------+-------+-----+-------+------+-----+-----+-----+------+------+-----+-----+------+-----+-----+-----+-----+-------+-------+-------+-------+-------+-------+------+-------+-------+------+-------+-------+-------+-------+-------+-------+-------+-------+-------+-------+-------+-------+-----+------+------+------+------+------+------+------+-----+------+------+------+------+------+------+-----+-------+------+-------+------+-------+-------+-------+------+-----+-----+------+------+------+------+-----+-----+----+-----+-----+------+-----+----+--------------------------------+-----+-----+-----+-----+-----------------------------------+-----+------+------+------+------+------+------+------+------+------+------+-----+-----+-----+-----+----+----+----+----+----+----+----+----+----+----+----+----+----+------+------+------+------+------+----------+----+----+-------------+-----------+-------------+-----------------+-------------------+------------+-------+------+-----+-----+------+-----+-------+-------------+------+-------+------+--------+----+-------+-------+------+------+---------------+-----------+--------+----------+-------+-----+--------+------------+------------------+-----------+---------+--------------+---------------+-----------+--------------------+-------------------+-------------+------------------+-----------------+-----------------+-------------------+----------------+---------------+----------+--------+-------+----+----------+----------+----------+----+----+-----------+---+------------------+----------------+--------------------+-------------------+--------------------+----------------+------------------+---------------+---------------+------+-----------------+----------------+-------------------+-------------------+---------+----------------+-----------+--------+-----------+----------+--------+-------+--------------+-------------------+--------+-------------+-------------+--------+-------------+----------+-----------+----------------+-----------------+----------------+------------------------+--------------------------------+--------------------------+------+----------------+---------------------+--------------------+----------------------------+--------------------------------+--------+------+------+--------+-------------------+\n",
            "|Authors|System|Domain|Organization|Organization categorization|Country (from Organization)|Publication date|Reference|Link|Citations|Notability criteria|Notability criteria notes|Parameters|Parameters notes|Training compute (FLOP)|Training compute notes|Training dataset|Training dataset notes|Training dataset size (datapoints)|Dataset size notes|Epochs|Training time (hours)|Training time notes|Training hardware|Hardware quantity|Hardware utilization|Training compute cost (2023 USD)|Compute cost notes|Confidence|Abstract|Model accessibility|Base model|Finetune compute (FLOP)|Finetune compute notes|Batch size|Batch size notes|Frontier model|Training power draw (W)|Genome ID|AAC(3)-IId|AAC(3)-IIe|AAC(3)-IV|AAC(3)-Ia|AAC(6')-29a|AAC(6')-33|AAC(6')-IIa|AAC(6')-IIc|AAC(6')-Ib-cr|AAC(6')-Ib10|AAC(6')-Ib7|AAC(6')-Ib9|AAC(6')-Il|AAC(6')-Im|ANT(2'')-Ia|ANT(3'')-IIa|APH(2'')-IIa|APH(3'')-Ib|APH(3')-Ia|APH(3')-VI|APH(3')-VIa|APH(4)-Ia|APH(6)-Id|BKC-1|CARB-3|CMY-59|CTX-M-1|CTX-M-101|CTX-M-14|CTX-M-15|CTX-M-2|CTX-M-27|CTX-M-3|CTX-M-65|CTX-M-9|CTX-M-98|DHA-1|DHA-6|EreA2|ErmB|FOX-5|FosA3|FosA5|FosA6|FosA7|IMP-14|KPC-1|KPC-3|KPC-8|Klebsiella_pneumoniae_KpnE|Klebsiella_pneumoniae_KpnF|Klebsiella_pneumoniae_KpnG|Klebsiella_pneumoniae_OmpK37|Klebsiella_pneumoniae_acrA|LAP-2|LEN-10|LEN-16|LEN-17|LEN-18|LEN-2|LEN-26|LEN-30|LEN-55|LEN-9|MCR-9|NDM-1|NDM-5|OKP-A-3|OKP-A-5|OKP-A-7|OKP-B-19|OKP-B-3|OKP-B-5|OKP-B-6|OKP-B-8|OXA-1|OXA-10|OXA-181|OXA-2|OXA-232|OXA-48|OXA-9|QnrA1|QnrA7|QnrB17|QnrB20|QnrB4|QnrB5|QnrB58|QnrS1|SAT-1|SCO-1|SHV-1|SHV-100|SHV-101|SHV-105|SHV-106|SHV-107|SHV-108|SHV-11|SHV-110|SHV-119|SHV-12|SHV-120|SHV-121|SHV-134|SHV-142|SHV-143|SHV-155|SHV-161|SHV-172|SHV-178|SHV-182|SHV-185|SHV-187|SHV-2|SHV-26|SHV-27|SHV-30|SHV-33|SHV-36|SHV-42|SHV-44|SHV-5|SHV-52|SHV-60|SHV-65|SHV-76|SHV-77|SHV-86|TEM-1|TEM-104|TEM-12|TEM-122|TEM-15|TEM-150|TEM-158|TEM-206|TEM-79|VEB-1|VEB-5|VIM-19|VIM-27|aadA13|aadA16|aadA2|aadA5|armA|arr-2|arr-3|catB11|catB3|catI|catII_from_Escherichia_coli_K-12|cmlA1|cmlA4|cmlA5|cmlA6|determinant_of_bleomycin_resistance|dfrA1|dfrA12|dfrA14|dfrA15|dfrA17|dfrA19|dfrA22|dfrA23|dfrA26|dfrA27|dfrA30|dfrA5|dfrA7|dfrA8|dfrB3|floR|mphA|mphE|msrE|oqxA|oqxB|qacH|rmtB|rmtC|rmtF|sul1|sul2|sul3|tet(A)|tet(B)|tet(C)|tet(D)|tet(G)|tet(W/N/W)|tetM|tetW|Genome Name_x|Other Names|NCBI Taxon ID|Taxon Lineage IDs|Taxon Lineage Names|Superkingdom|Kingdom|Phylum|Class|Order|Family|Genus|Species|Genome Status|Strain|Serovar|Biovar|Pathovar|MLST|Segment|Subtype|H_type|N_type|H1 Clade Global|H1 Clade US|H5 Clade|pH1N1-like|Lineage|Clade|Subclade|Other Typing|Culture Collection|Type Strain|Reference|Genome Quality|Completion Date|Publication|BioProject Accession|BioSample Accession|SRA Accession|GenBank Accessions|Sequencing Center|Sequencing Status|Sequencing Platform|Sequencing Depth|Assembly Method|Chromosome|Plasmids|Contigs|Size|GC Content|Contig L50|Contig N50|TRNA|RRNA|Mat Peptide|CDS|Coarse Consistency|Fine Consistency|CheckM Contamination|CheckM Completeness|Genome Quality Flags|Isolation Source|Isolation Comments|Collection Date|Collection Year|Season|Isolation Country|Geographic Group|Geographic Location|Other Environmental|Host Name|Host Common Name|Host Gender|Host Age|Host Health|Host Group|Lab Host|Passage|Other Clinical|Additional Metadata|Comments|Date Inserted|Date Modified|Taxon ID|Genome Name_y|Antibiotic|Measurement|Measurement Sign|Measurement Value|Measurement Unit|Laboratory Typing Method|Laboratory Typing Method Version|Laboratory Typing Platform|Vendor|Testing Standard|Testing Standard Year|Computational Method|Computational Method Version|Computational Method Performance|Evidence|Source|PubMed|SEQUENCE|Resistant Phenotype|\n",
            "+-------+------+------+------------+---------------------------+---------------------------+----------------+---------+----+---------+-------------------+-------------------------+----------+----------------+-----------------------+----------------------+----------------+----------------------+----------------------------------+------------------+------+---------------------+-------------------+-----------------+-----------------+--------------------+--------------------------------+------------------+----------+--------+-------------------+----------+-----------------------+----------------------+----------+----------------+--------------+-----------------------+---------+----------+----------+---------+---------+-----------+----------+-----------+-----------+-------------+------------+-----------+-----------+----------+----------+-----------+------------+------------+-----------+----------+----------+-----------+---------+---------+-----+------+------+-------+---------+--------+--------+-------+--------+-------+--------+-------+--------+-----+-----+-----+----+-----+-----+-----+-----+-----+------+-----+-----+-----+--------------------------+--------------------------+--------------------------+----------------------------+--------------------------+-----+------+------+------+------+-----+------+------+------+-----+-----+-----+-----+-------+-------+-------+--------+-------+-------+-------+-------+-----+------+-------+-----+-------+------+-----+-----+-----+------+------+-----+-----+------+-----+-----+-----+-----+-------+-------+-------+-------+-------+-------+------+-------+-------+------+-------+-------+-------+-------+-------+-------+-------+-------+-------+-------+-------+-------+-----+------+------+------+------+------+------+------+-----+------+------+------+------+------+------+-----+-------+------+-------+------+-------+-------+-------+------+-----+-----+------+------+------+------+-----+-----+----+-----+-----+------+-----+----+--------------------------------+-----+-----+-----+-----+-----------------------------------+-----+------+------+------+------+------+------+------+------+------+------+-----+-----+-----+-----+----+----+----+----+----+----+----+----+----+----+----+----+----+------+------+------+------+------+----------+----+----+-------------+-----------+-------------+-----------------+-------------------+------------+-------+------+-----+-----+------+-----+-------+-------------+------+-------+------+--------+----+-------+-------+------+------+---------------+-----------+--------+----------+-------+-----+--------+------------+------------------+-----------+---------+--------------+---------------+-----------+--------------------+-------------------+-------------+------------------+-----------------+-----------------+-------------------+----------------+---------------+----------+--------+-------+----+----------+----------+----------+----+----+-----------+---+------------------+----------------+--------------------+-------------------+--------------------+----------------+------------------+---------------+---------------+------+-----------------+----------------+-------------------+-------------------+---------+----------------+-----------+--------+-----------+----------+--------+-------+--------------+-------------------+--------+-------------+-------------+--------+-------------+----------+-----------+----------------+-----------------+----------------+------------------------+--------------------------------+--------------------------+------+----------------+---------------------+--------------------+----------------------------+--------------------------------+--------+------+------+--------+-------------------+\n",
            "+-------+------+------+------------+---------------------------+---------------------------+----------------+---------+----+---------+-------------------+-------------------------+----------+----------------+-----------------------+----------------------+----------------+----------------------+----------------------------------+------------------+------+---------------------+-------------------+-----------------+-----------------+--------------------+--------------------------------+------------------+----------+--------+-------------------+----------+-----------------------+----------------------+----------+----------------+--------------+-----------------------+---------+----------+----------+---------+---------+-----------+----------+-----------+-----------+-------------+------------+-----------+-----------+----------+----------+-----------+------------+------------+-----------+----------+----------+-----------+---------+---------+-----+------+------+-------+---------+--------+--------+-------+--------+-------+--------+-------+--------+-----+-----+-----+----+-----+-----+-----+-----+-----+------+-----+-----+-----+--------------------------+--------------------------+--------------------------+----------------------------+--------------------------+-----+------+------+------+------+-----+------+------+------+-----+-----+-----+-----+-------+-------+-------+--------+-------+-------+-------+-------+-----+------+-------+-----+-------+------+-----+-----+-----+------+------+-----+-----+------+-----+-----+-----+-----+-------+-------+-------+-------+-------+-------+------+-------+-------+------+-------+-------+-------+-------+-------+-------+-------+-------+-------+-------+-------+-------+-----+------+------+------+------+------+------+------+-----+------+------+------+------+------+------+-----+-------+------+-------+------+-------+-------+-------+------+-----+-----+------+------+------+------+-----+-----+----+-----+-----+------+-----+----+--------------------------------+-----+-----+-----+-----+-----------------------------------+-----+------+------+------+------+------+------+------+------+------+------+-----+-----+-----+-----+----+----+----+----+----+----+----+----+----+----+----+----+----+------+------+------+------+------+----------+----+----+-------------+-----------+-------------+-----------------+-------------------+------------+-------+------+-----+-----+------+-----+-------+-------------+------+-------+------+--------+----+-------+-------+------+------+---------------+-----------+--------+----------+-------+-----+--------+------------+------------------+-----------+---------+--------------+---------------+-----------+--------------------+-------------------+-------------+------------------+-----------------+-----------------+-------------------+----------------+---------------+----------+--------+-------+----+----------+----------+----------+----+----+-----------+---+------------------+----------------+--------------------+-------------------+--------------------+----------------+------------------+---------------+---------------+------+-----------------+----------------+-------------------+-------------------+---------+----------------+-----------+--------+-----------+----------+--------+-------+--------------+-------------------+--------+-------------+-------------+--------+-------------+----------+-----------+----------------+-----------------+----------------+------------------------+--------------------------------+--------------------------+------+----------------+---------------------+--------------------+----------------------------+--------------------------------+--------+------+------+--------+-------------------+\n",
            "\n"
          ]
        }
      ]
    },
    {
      "cell_type": "markdown",
      "source": [
        "Criação de Novas Colunas:"
      ],
      "metadata": {
        "id": "KyHq7N4UGCT9"
      }
    },
    {
      "cell_type": "code",
      "source": [
        "# Cria uma nova coluna 'nova_coluna' como a soma de 'coluna1' e 'coluna2'\n",
        "df_pandas['nova_coluna'] = df_pandas['coluna1'] + df_pandas['coluna2']"
      ],
      "metadata": {
        "id": "F-JSPVrfGEIz",
        "colab": {
          "base_uri": "https://localhost:8080/",
          "height": 575
        },
        "outputId": "b605e4ab-5e6f-47b5-9f4e-040d49ab6903"
      },
      "execution_count": 47,
      "outputs": [
        {
          "output_type": "error",
          "ename": "KeyError",
          "evalue": "'coluna1'",
          "traceback": [
            "\u001b[0;31m---------------------------------------------------------------------------\u001b[0m",
            "\u001b[0;31mKeyError\u001b[0m                                  Traceback (most recent call last)",
            "\u001b[0;32m/usr/local/lib/python3.10/dist-packages/pandas/core/indexes/base.py\u001b[0m in \u001b[0;36mget_loc\u001b[0;34m(self, key)\u001b[0m\n\u001b[1;32m   3804\u001b[0m         \u001b[0;32mtry\u001b[0m\u001b[0;34m:\u001b[0m\u001b[0;34m\u001b[0m\u001b[0;34m\u001b[0m\u001b[0m\n\u001b[0;32m-> 3805\u001b[0;31m             \u001b[0;32mreturn\u001b[0m \u001b[0mself\u001b[0m\u001b[0;34m.\u001b[0m\u001b[0m_engine\u001b[0m\u001b[0;34m.\u001b[0m\u001b[0mget_loc\u001b[0m\u001b[0;34m(\u001b[0m\u001b[0mcasted_key\u001b[0m\u001b[0;34m)\u001b[0m\u001b[0;34m\u001b[0m\u001b[0;34m\u001b[0m\u001b[0m\n\u001b[0m\u001b[1;32m   3806\u001b[0m         \u001b[0;32mexcept\u001b[0m \u001b[0mKeyError\u001b[0m \u001b[0;32mas\u001b[0m \u001b[0merr\u001b[0m\u001b[0;34m:\u001b[0m\u001b[0;34m\u001b[0m\u001b[0;34m\u001b[0m\u001b[0m\n",
            "\u001b[0;32mindex.pyx\u001b[0m in \u001b[0;36mpandas._libs.index.IndexEngine.get_loc\u001b[0;34m()\u001b[0m\n",
            "\u001b[0;32mindex.pyx\u001b[0m in \u001b[0;36mpandas._libs.index.IndexEngine.get_loc\u001b[0;34m()\u001b[0m\n",
            "\u001b[0;32mpandas/_libs/hashtable_class_helper.pxi\u001b[0m in \u001b[0;36mpandas._libs.hashtable.PyObjectHashTable.get_item\u001b[0;34m()\u001b[0m\n",
            "\u001b[0;32mpandas/_libs/hashtable_class_helper.pxi\u001b[0m in \u001b[0;36mpandas._libs.hashtable.PyObjectHashTable.get_item\u001b[0;34m()\u001b[0m\n",
            "\u001b[0;31mKeyError\u001b[0m: 'coluna1'",
            "\nThe above exception was the direct cause of the following exception:\n",
            "\u001b[0;31mKeyError\u001b[0m                                  Traceback (most recent call last)",
            "\u001b[0;32m<ipython-input-47-5b211c66a764>\u001b[0m in \u001b[0;36m<cell line: 2>\u001b[0;34m()\u001b[0m\n\u001b[1;32m      1\u001b[0m \u001b[0;31m# Cria uma nova coluna 'nova_coluna' como a soma de 'coluna1' e 'coluna2'\u001b[0m\u001b[0;34m\u001b[0m\u001b[0;34m\u001b[0m\u001b[0m\n\u001b[0;32m----> 2\u001b[0;31m \u001b[0mdf_pandas\u001b[0m\u001b[0;34m[\u001b[0m\u001b[0;34m'nova_coluna'\u001b[0m\u001b[0;34m]\u001b[0m \u001b[0;34m=\u001b[0m \u001b[0mdf_pandas\u001b[0m\u001b[0;34m[\u001b[0m\u001b[0;34m'coluna1'\u001b[0m\u001b[0;34m]\u001b[0m \u001b[0;34m+\u001b[0m \u001b[0mdf_pandas\u001b[0m\u001b[0;34m[\u001b[0m\u001b[0;34m'coluna2'\u001b[0m\u001b[0;34m]\u001b[0m\u001b[0;34m\u001b[0m\u001b[0;34m\u001b[0m\u001b[0m\n\u001b[0m\u001b[1;32m      3\u001b[0m \u001b[0;34m\u001b[0m\u001b[0m\n\u001b[1;32m      4\u001b[0m \u001b[0;31m# Exibe o DataFrame resultante\u001b[0m\u001b[0;34m\u001b[0m\u001b[0;34m\u001b[0m\u001b[0m\n\u001b[1;32m      5\u001b[0m \u001b[0mprint\u001b[0m\u001b[0;34m(\u001b[0m\u001b[0mdf_pandas\u001b[0m\u001b[0;34m)\u001b[0m\u001b[0;34m\u001b[0m\u001b[0;34m\u001b[0m\u001b[0m\n",
            "\u001b[0;32m/usr/local/lib/python3.10/dist-packages/pandas/core/frame.py\u001b[0m in \u001b[0;36m__getitem__\u001b[0;34m(self, key)\u001b[0m\n\u001b[1;32m   4100\u001b[0m             \u001b[0;32mif\u001b[0m \u001b[0mself\u001b[0m\u001b[0;34m.\u001b[0m\u001b[0mcolumns\u001b[0m\u001b[0;34m.\u001b[0m\u001b[0mnlevels\u001b[0m \u001b[0;34m>\u001b[0m \u001b[0;36m1\u001b[0m\u001b[0;34m:\u001b[0m\u001b[0;34m\u001b[0m\u001b[0;34m\u001b[0m\u001b[0m\n\u001b[1;32m   4101\u001b[0m                 \u001b[0;32mreturn\u001b[0m \u001b[0mself\u001b[0m\u001b[0;34m.\u001b[0m\u001b[0m_getitem_multilevel\u001b[0m\u001b[0;34m(\u001b[0m\u001b[0mkey\u001b[0m\u001b[0;34m)\u001b[0m\u001b[0;34m\u001b[0m\u001b[0;34m\u001b[0m\u001b[0m\n\u001b[0;32m-> 4102\u001b[0;31m             \u001b[0mindexer\u001b[0m \u001b[0;34m=\u001b[0m \u001b[0mself\u001b[0m\u001b[0;34m.\u001b[0m\u001b[0mcolumns\u001b[0m\u001b[0;34m.\u001b[0m\u001b[0mget_loc\u001b[0m\u001b[0;34m(\u001b[0m\u001b[0mkey\u001b[0m\u001b[0;34m)\u001b[0m\u001b[0;34m\u001b[0m\u001b[0;34m\u001b[0m\u001b[0m\n\u001b[0m\u001b[1;32m   4103\u001b[0m             \u001b[0;32mif\u001b[0m \u001b[0mis_integer\u001b[0m\u001b[0;34m(\u001b[0m\u001b[0mindexer\u001b[0m\u001b[0;34m)\u001b[0m\u001b[0;34m:\u001b[0m\u001b[0;34m\u001b[0m\u001b[0;34m\u001b[0m\u001b[0m\n\u001b[1;32m   4104\u001b[0m                 \u001b[0mindexer\u001b[0m \u001b[0;34m=\u001b[0m \u001b[0;34m[\u001b[0m\u001b[0mindexer\u001b[0m\u001b[0;34m]\u001b[0m\u001b[0;34m\u001b[0m\u001b[0;34m\u001b[0m\u001b[0m\n",
            "\u001b[0;32m/usr/local/lib/python3.10/dist-packages/pandas/core/indexes/base.py\u001b[0m in \u001b[0;36mget_loc\u001b[0;34m(self, key)\u001b[0m\n\u001b[1;32m   3810\u001b[0m             ):\n\u001b[1;32m   3811\u001b[0m                 \u001b[0;32mraise\u001b[0m \u001b[0mInvalidIndexError\u001b[0m\u001b[0;34m(\u001b[0m\u001b[0mkey\u001b[0m\u001b[0;34m)\u001b[0m\u001b[0;34m\u001b[0m\u001b[0;34m\u001b[0m\u001b[0m\n\u001b[0;32m-> 3812\u001b[0;31m             \u001b[0;32mraise\u001b[0m \u001b[0mKeyError\u001b[0m\u001b[0;34m(\u001b[0m\u001b[0mkey\u001b[0m\u001b[0;34m)\u001b[0m \u001b[0;32mfrom\u001b[0m \u001b[0merr\u001b[0m\u001b[0;34m\u001b[0m\u001b[0;34m\u001b[0m\u001b[0m\n\u001b[0m\u001b[1;32m   3813\u001b[0m         \u001b[0;32mexcept\u001b[0m \u001b[0mTypeError\u001b[0m\u001b[0;34m:\u001b[0m\u001b[0;34m\u001b[0m\u001b[0;34m\u001b[0m\u001b[0m\n\u001b[1;32m   3814\u001b[0m             \u001b[0;31m# If we have a listlike key, _check_indexing_error will raise\u001b[0m\u001b[0;34m\u001b[0m\u001b[0;34m\u001b[0m\u001b[0m\n",
            "\u001b[0;31mKeyError\u001b[0m: 'coluna1'"
          ]
        }
      ]
    },
    {
      "cell_type": "code",
      "source": [
        "from pyspark.sql.functions import col\n",
        "\n",
        "# Cria uma nova coluna 'nova_coluna' como a soma de 'coluna1' e 'coluna2'\n",
        "df_pyspark = df_pyspark.withColumn(\"nova_coluna\", col(\"coluna1\") + col(\"coluna2\"))\n"
      ],
      "metadata": {
        "id": "YtKNc4XfGGQp"
      },
      "execution_count": null,
      "outputs": []
    },
    {
      "cell_type": "markdown",
      "source": [
        "Ordenação de Dados:"
      ],
      "metadata": {
        "id": "il5SISWCGK7O"
      }
    },
    {
      "cell_type": "code",
      "source": [
        "# Ordena o DataFrame pelo 'coluna1' em ordem descendente\n",
        "df_pandas_ordenado = df_pandas.sort_values(by='coluna1', ascending=False)"
      ],
      "metadata": {
        "id": "a9vHllFkGJol"
      },
      "execution_count": null,
      "outputs": []
    },
    {
      "cell_type": "code",
      "source": [
        "# Ordena o DataFrame pelo 'coluna1' em ordem descendente\n",
        "df_pyspark_ordenado = df_pyspark.orderBy(df_pyspark.coluna1.desc())"
      ],
      "metadata": {
        "id": "A8CU8GXLGNbD"
      },
      "execution_count": null,
      "outputs": []
    }
  ]
}